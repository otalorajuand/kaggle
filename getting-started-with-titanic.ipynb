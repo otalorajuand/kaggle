{
 "cells": [
  {
   "cell_type": "markdown",
   "id": "63f4e1f2",
   "metadata": {
    "papermill": {
     "duration": 0.01692,
     "end_time": "2024-02-24T22:49:48.258984",
     "exception": false,
     "start_time": "2024-02-24T22:49:48.242064",
     "status": "completed"
    },
    "tags": []
   },
   "source": [
    "# **Exploratory Data Analisys (EDA)**"
   ]
  },
  {
   "cell_type": "code",
   "execution_count": 1,
   "id": "f94fbe8a",
   "metadata": {
    "_cell_guid": "35884021-544b-409e-a238-218987f076a4",
    "_uuid": "7cce0b62-3116-4b9c-864f-7942c2b5b553",
    "collapsed": false,
    "execution": {
     "iopub.execute_input": "2024-02-24T22:49:48.292249Z",
     "iopub.status.busy": "2024-02-24T22:49:48.291600Z",
     "iopub.status.idle": "2024-02-24T22:49:52.228439Z",
     "shell.execute_reply": "2024-02-24T22:49:52.226924Z"
    },
    "jupyter": {
     "outputs_hidden": false
    },
    "papermill": {
     "duration": 3.957044,
     "end_time": "2024-02-24T22:49:52.231516",
     "exception": false,
     "start_time": "2024-02-24T22:49:48.274472",
     "status": "completed"
    },
    "tags": []
   },
   "outputs": [
    {
     "name": "stdout",
     "output_type": "stream",
     "text": [
      "/kaggle/input/titanic/train.csv\n",
      "/kaggle/input/titanic/test.csv\n",
      "/kaggle/input/titanic/gender_submission.csv\n"
     ]
    }
   ],
   "source": [
    "# This Python 3 environment comes with many helpful analytics libraries installed\n",
    "# It is defined by the kaggle/python Docker image: https://github.com/kaggle/docker-python\n",
    "# For example, here's several helpful packages to load\n",
    "\n",
    "import numpy as np # linear algebra\n",
    "import pandas as pd # data processing, CSV file I/O (e.g. pd.read_csv)\n",
    "import matplotlib.pyplot as plt\n",
    "import seaborn as sn\n",
    "from scipy import stats\n",
    "from sklearn.experimental import enable_iterative_imputer\n",
    "from sklearn.impute import IterativeImputer, KNNImputer\n",
    "import scipy.stats\n",
    "\n",
    "# Input data files are available in the read-only \"../input/\" directory\n",
    "# For example, running this (by clicking run or pressing Shift+Enter) will list all files under the input directory\n",
    "\n",
    "import os\n",
    "for dirname, _, filenames in os.walk('/kaggle/input'):\n",
    "    for filename in filenames:\n",
    "        print(os.path.join(dirname, filename))\n",
    "\n",
    "# You can write up to 20GB to the current directory (/kaggle/working/) that gets preserved as output when you create a version using \"Save & Run All\" \n",
    "# You can also write temporary files to /kaggle/temp/, but they won't be saved outside of the current session"
   ]
  },
  {
   "cell_type": "markdown",
   "id": "a9c7b6a9",
   "metadata": {
    "papermill": {
     "duration": 0.015432,
     "end_time": "2024-02-24T22:49:52.264353",
     "exception": false,
     "start_time": "2024-02-24T22:49:52.248921",
     "status": "completed"
    },
    "tags": []
   },
   "source": [
    "https://www.kaggle.com/code/kenjee/categorical-feature-engineering-section-7-1?scriptVersionId=134407252&cellId=51\n"
   ]
  },
  {
   "cell_type": "markdown",
   "id": "04f20d04",
   "metadata": {
    "papermill": {
     "duration": 0.016188,
     "end_time": "2024-02-24T22:49:52.297477",
     "exception": false,
     "start_time": "2024-02-24T22:49:52.281289",
     "status": "completed"
    },
    "tags": []
   },
   "source": [
    "Related Course Workbooks - Machine Learning Process A-Z\n",
    "Dealing with Missing Values - Section 5.1\n",
    "Dealing with Outliers - Section 5.2\n",
    "Basic EDA Example - Section 6\n",
    "Categorical Feature Engineering - Section 7.1\n",
    "Numeric Feature Engineering - Section 7.2\n",
    "Cross Validation Foundations - Section 8\n",
    "Feature Selection - Section 9\n",
    "Dealing with Imbalanced Data - Section 10\n",
    "Model Building Example - Section 11\n",
    "Model Evaluation (Classification) - Section 11\n",
    "Model Evlauation (Regression) - Section 11"
   ]
  },
  {
   "cell_type": "code",
   "execution_count": 2,
   "id": "b4372a99",
   "metadata": {
    "_cell_guid": "12311de9-c2d1-47e0-bbee-4cadc7613987",
    "_uuid": "d4d4081f-c75c-4ac6-a5b9-58c4dd6691bb",
    "collapsed": false,
    "execution": {
     "iopub.execute_input": "2024-02-24T22:49:52.336616Z",
     "iopub.status.busy": "2024-02-24T22:49:52.335507Z",
     "iopub.status.idle": "2024-02-24T22:49:52.398710Z",
     "shell.execute_reply": "2024-02-24T22:49:52.397704Z"
    },
    "jupyter": {
     "outputs_hidden": false
    },
    "papermill": {
     "duration": 0.086049,
     "end_time": "2024-02-24T22:49:52.401909",
     "exception": false,
     "start_time": "2024-02-24T22:49:52.315860",
     "status": "completed"
    },
    "tags": []
   },
   "outputs": [
    {
     "data": {
      "text/html": [
       "<div>\n",
       "<style scoped>\n",
       "    .dataframe tbody tr th:only-of-type {\n",
       "        vertical-align: middle;\n",
       "    }\n",
       "\n",
       "    .dataframe tbody tr th {\n",
       "        vertical-align: top;\n",
       "    }\n",
       "\n",
       "    .dataframe thead th {\n",
       "        text-align: right;\n",
       "    }\n",
       "</style>\n",
       "<table border=\"1\" class=\"dataframe\">\n",
       "  <thead>\n",
       "    <tr style=\"text-align: right;\">\n",
       "      <th></th>\n",
       "      <th>PassengerId</th>\n",
       "      <th>Survived</th>\n",
       "      <th>Pclass</th>\n",
       "      <th>Name</th>\n",
       "      <th>Sex</th>\n",
       "      <th>Age</th>\n",
       "      <th>SibSp</th>\n",
       "      <th>Parch</th>\n",
       "      <th>Ticket</th>\n",
       "      <th>Fare</th>\n",
       "      <th>Cabin</th>\n",
       "      <th>Embarked</th>\n",
       "    </tr>\n",
       "  </thead>\n",
       "  <tbody>\n",
       "    <tr>\n",
       "      <th>0</th>\n",
       "      <td>1</td>\n",
       "      <td>0</td>\n",
       "      <td>3</td>\n",
       "      <td>Braund, Mr. Owen Harris</td>\n",
       "      <td>male</td>\n",
       "      <td>22.0</td>\n",
       "      <td>1</td>\n",
       "      <td>0</td>\n",
       "      <td>A/5 21171</td>\n",
       "      <td>7.2500</td>\n",
       "      <td>NaN</td>\n",
       "      <td>S</td>\n",
       "    </tr>\n",
       "    <tr>\n",
       "      <th>1</th>\n",
       "      <td>2</td>\n",
       "      <td>1</td>\n",
       "      <td>1</td>\n",
       "      <td>Cumings, Mrs. John Bradley (Florence Briggs Th...</td>\n",
       "      <td>female</td>\n",
       "      <td>38.0</td>\n",
       "      <td>1</td>\n",
       "      <td>0</td>\n",
       "      <td>PC 17599</td>\n",
       "      <td>71.2833</td>\n",
       "      <td>C85</td>\n",
       "      <td>C</td>\n",
       "    </tr>\n",
       "    <tr>\n",
       "      <th>2</th>\n",
       "      <td>3</td>\n",
       "      <td>1</td>\n",
       "      <td>3</td>\n",
       "      <td>Heikkinen, Miss. Laina</td>\n",
       "      <td>female</td>\n",
       "      <td>26.0</td>\n",
       "      <td>0</td>\n",
       "      <td>0</td>\n",
       "      <td>STON/O2. 3101282</td>\n",
       "      <td>7.9250</td>\n",
       "      <td>NaN</td>\n",
       "      <td>S</td>\n",
       "    </tr>\n",
       "    <tr>\n",
       "      <th>3</th>\n",
       "      <td>4</td>\n",
       "      <td>1</td>\n",
       "      <td>1</td>\n",
       "      <td>Futrelle, Mrs. Jacques Heath (Lily May Peel)</td>\n",
       "      <td>female</td>\n",
       "      <td>35.0</td>\n",
       "      <td>1</td>\n",
       "      <td>0</td>\n",
       "      <td>113803</td>\n",
       "      <td>53.1000</td>\n",
       "      <td>C123</td>\n",
       "      <td>S</td>\n",
       "    </tr>\n",
       "    <tr>\n",
       "      <th>4</th>\n",
       "      <td>5</td>\n",
       "      <td>0</td>\n",
       "      <td>3</td>\n",
       "      <td>Allen, Mr. William Henry</td>\n",
       "      <td>male</td>\n",
       "      <td>35.0</td>\n",
       "      <td>0</td>\n",
       "      <td>0</td>\n",
       "      <td>373450</td>\n",
       "      <td>8.0500</td>\n",
       "      <td>NaN</td>\n",
       "      <td>S</td>\n",
       "    </tr>\n",
       "  </tbody>\n",
       "</table>\n",
       "</div>"
      ],
      "text/plain": [
       "   PassengerId  Survived  Pclass  \\\n",
       "0            1         0       3   \n",
       "1            2         1       1   \n",
       "2            3         1       3   \n",
       "3            4         1       1   \n",
       "4            5         0       3   \n",
       "\n",
       "                                                Name     Sex   Age  SibSp  \\\n",
       "0                            Braund, Mr. Owen Harris    male  22.0      1   \n",
       "1  Cumings, Mrs. John Bradley (Florence Briggs Th...  female  38.0      1   \n",
       "2                             Heikkinen, Miss. Laina  female  26.0      0   \n",
       "3       Futrelle, Mrs. Jacques Heath (Lily May Peel)  female  35.0      1   \n",
       "4                           Allen, Mr. William Henry    male  35.0      0   \n",
       "\n",
       "   Parch            Ticket     Fare Cabin Embarked  \n",
       "0      0         A/5 21171   7.2500   NaN        S  \n",
       "1      0          PC 17599  71.2833   C85        C  \n",
       "2      0  STON/O2. 3101282   7.9250   NaN        S  \n",
       "3      0            113803  53.1000  C123        S  \n",
       "4      0            373450   8.0500   NaN        S  "
      ]
     },
     "execution_count": 2,
     "metadata": {},
     "output_type": "execute_result"
    }
   ],
   "source": [
    "train_data = pd.read_csv(\"/kaggle/input/titanic/train.csv\")\n",
    "test_data = pd.read_csv(\"/kaggle/input/titanic/test.csv\")\n",
    "train_data.head()"
   ]
  },
  {
   "cell_type": "code",
   "execution_count": 3,
   "id": "d4561c76",
   "metadata": {
    "_cell_guid": "8b4cfa01-c5c0-4c33-a241-9004f7bda54e",
    "_uuid": "a1100249-24d4-4a45-a598-f9c480d7e3c8",
    "collapsed": false,
    "execution": {
     "iopub.execute_input": "2024-02-24T22:49:52.436324Z",
     "iopub.status.busy": "2024-02-24T22:49:52.435792Z",
     "iopub.status.idle": "2024-02-24T22:49:52.473275Z",
     "shell.execute_reply": "2024-02-24T22:49:52.472015Z"
    },
    "jupyter": {
     "outputs_hidden": false
    },
    "papermill": {
     "duration": 0.057738,
     "end_time": "2024-02-24T22:49:52.475919",
     "exception": false,
     "start_time": "2024-02-24T22:49:52.418181",
     "status": "completed"
    },
    "tags": []
   },
   "outputs": [
    {
     "name": "stdout",
     "output_type": "stream",
     "text": [
      "<class 'pandas.core.frame.DataFrame'>\n",
      "RangeIndex: 891 entries, 0 to 890\n",
      "Data columns (total 12 columns):\n",
      " #   Column       Non-Null Count  Dtype  \n",
      "---  ------       --------------  -----  \n",
      " 0   PassengerId  891 non-null    int64  \n",
      " 1   Survived     891 non-null    int64  \n",
      " 2   Pclass       891 non-null    int64  \n",
      " 3   Name         891 non-null    object \n",
      " 4   Sex          891 non-null    object \n",
      " 5   Age          714 non-null    float64\n",
      " 6   SibSp        891 non-null    int64  \n",
      " 7   Parch        891 non-null    int64  \n",
      " 8   Ticket       891 non-null    object \n",
      " 9   Fare         891 non-null    float64\n",
      " 10  Cabin        204 non-null    object \n",
      " 11  Embarked     889 non-null    object \n",
      "dtypes: float64(2), int64(5), object(5)\n",
      "memory usage: 83.7+ KB\n"
     ]
    }
   ],
   "source": [
    "train_data.info()"
   ]
  },
  {
   "cell_type": "code",
   "execution_count": 4,
   "id": "697df6aa",
   "metadata": {
    "_cell_guid": "5d078bb6-10d4-4113-80a5-ae8d0d15a6dd",
    "_uuid": "9f9035b5-5ab5-4207-a870-a8247fe949b5",
    "collapsed": false,
    "execution": {
     "iopub.execute_input": "2024-02-24T22:49:52.510688Z",
     "iopub.status.busy": "2024-02-24T22:49:52.509888Z",
     "iopub.status.idle": "2024-02-24T22:49:52.545349Z",
     "shell.execute_reply": "2024-02-24T22:49:52.544162Z"
    },
    "jupyter": {
     "outputs_hidden": false
    },
    "papermill": {
     "duration": 0.055559,
     "end_time": "2024-02-24T22:49:52.548094",
     "exception": false,
     "start_time": "2024-02-24T22:49:52.492535",
     "status": "completed"
    },
    "tags": []
   },
   "outputs": [
    {
     "data": {
      "text/html": [
       "<div>\n",
       "<style scoped>\n",
       "    .dataframe tbody tr th:only-of-type {\n",
       "        vertical-align: middle;\n",
       "    }\n",
       "\n",
       "    .dataframe tbody tr th {\n",
       "        vertical-align: top;\n",
       "    }\n",
       "\n",
       "    .dataframe thead th {\n",
       "        text-align: right;\n",
       "    }\n",
       "</style>\n",
       "<table border=\"1\" class=\"dataframe\">\n",
       "  <thead>\n",
       "    <tr style=\"text-align: right;\">\n",
       "      <th></th>\n",
       "      <th>PassengerId</th>\n",
       "      <th>Survived</th>\n",
       "      <th>Pclass</th>\n",
       "      <th>Age</th>\n",
       "      <th>SibSp</th>\n",
       "      <th>Parch</th>\n",
       "      <th>Fare</th>\n",
       "    </tr>\n",
       "  </thead>\n",
       "  <tbody>\n",
       "    <tr>\n",
       "      <th>count</th>\n",
       "      <td>891.000000</td>\n",
       "      <td>891.000000</td>\n",
       "      <td>891.000000</td>\n",
       "      <td>714.000000</td>\n",
       "      <td>891.000000</td>\n",
       "      <td>891.000000</td>\n",
       "      <td>891.000000</td>\n",
       "    </tr>\n",
       "    <tr>\n",
       "      <th>mean</th>\n",
       "      <td>446.000000</td>\n",
       "      <td>0.383838</td>\n",
       "      <td>2.308642</td>\n",
       "      <td>29.699118</td>\n",
       "      <td>0.523008</td>\n",
       "      <td>0.381594</td>\n",
       "      <td>32.204208</td>\n",
       "    </tr>\n",
       "    <tr>\n",
       "      <th>std</th>\n",
       "      <td>257.353842</td>\n",
       "      <td>0.486592</td>\n",
       "      <td>0.836071</td>\n",
       "      <td>14.526497</td>\n",
       "      <td>1.102743</td>\n",
       "      <td>0.806057</td>\n",
       "      <td>49.693429</td>\n",
       "    </tr>\n",
       "    <tr>\n",
       "      <th>min</th>\n",
       "      <td>1.000000</td>\n",
       "      <td>0.000000</td>\n",
       "      <td>1.000000</td>\n",
       "      <td>0.420000</td>\n",
       "      <td>0.000000</td>\n",
       "      <td>0.000000</td>\n",
       "      <td>0.000000</td>\n",
       "    </tr>\n",
       "    <tr>\n",
       "      <th>25%</th>\n",
       "      <td>223.500000</td>\n",
       "      <td>0.000000</td>\n",
       "      <td>2.000000</td>\n",
       "      <td>20.125000</td>\n",
       "      <td>0.000000</td>\n",
       "      <td>0.000000</td>\n",
       "      <td>7.910400</td>\n",
       "    </tr>\n",
       "    <tr>\n",
       "      <th>50%</th>\n",
       "      <td>446.000000</td>\n",
       "      <td>0.000000</td>\n",
       "      <td>3.000000</td>\n",
       "      <td>28.000000</td>\n",
       "      <td>0.000000</td>\n",
       "      <td>0.000000</td>\n",
       "      <td>14.454200</td>\n",
       "    </tr>\n",
       "    <tr>\n",
       "      <th>75%</th>\n",
       "      <td>668.500000</td>\n",
       "      <td>1.000000</td>\n",
       "      <td>3.000000</td>\n",
       "      <td>38.000000</td>\n",
       "      <td>1.000000</td>\n",
       "      <td>0.000000</td>\n",
       "      <td>31.000000</td>\n",
       "    </tr>\n",
       "    <tr>\n",
       "      <th>max</th>\n",
       "      <td>891.000000</td>\n",
       "      <td>1.000000</td>\n",
       "      <td>3.000000</td>\n",
       "      <td>80.000000</td>\n",
       "      <td>8.000000</td>\n",
       "      <td>6.000000</td>\n",
       "      <td>512.329200</td>\n",
       "    </tr>\n",
       "  </tbody>\n",
       "</table>\n",
       "</div>"
      ],
      "text/plain": [
       "       PassengerId    Survived      Pclass         Age       SibSp  \\\n",
       "count   891.000000  891.000000  891.000000  714.000000  891.000000   \n",
       "mean    446.000000    0.383838    2.308642   29.699118    0.523008   \n",
       "std     257.353842    0.486592    0.836071   14.526497    1.102743   \n",
       "min       1.000000    0.000000    1.000000    0.420000    0.000000   \n",
       "25%     223.500000    0.000000    2.000000   20.125000    0.000000   \n",
       "50%     446.000000    0.000000    3.000000   28.000000    0.000000   \n",
       "75%     668.500000    1.000000    3.000000   38.000000    1.000000   \n",
       "max     891.000000    1.000000    3.000000   80.000000    8.000000   \n",
       "\n",
       "            Parch        Fare  \n",
       "count  891.000000  891.000000  \n",
       "mean     0.381594   32.204208  \n",
       "std      0.806057   49.693429  \n",
       "min      0.000000    0.000000  \n",
       "25%      0.000000    7.910400  \n",
       "50%      0.000000   14.454200  \n",
       "75%      0.000000   31.000000  \n",
       "max      6.000000  512.329200  "
      ]
     },
     "execution_count": 4,
     "metadata": {},
     "output_type": "execute_result"
    }
   ],
   "source": [
    "train_data.describe()"
   ]
  },
  {
   "cell_type": "code",
   "execution_count": 5,
   "id": "0d78a63e",
   "metadata": {
    "_cell_guid": "870c411e-db67-42d1-8c68-4b814b30c17e",
    "_uuid": "2e456c43-d76b-4b9d-b5f8-0e9445d774ab",
    "collapsed": false,
    "execution": {
     "iopub.execute_input": "2024-02-24T22:49:52.584266Z",
     "iopub.status.busy": "2024-02-24T22:49:52.583465Z",
     "iopub.status.idle": "2024-02-24T22:49:52.594176Z",
     "shell.execute_reply": "2024-02-24T22:49:52.592993Z"
    },
    "jupyter": {
     "outputs_hidden": false
    },
    "papermill": {
     "duration": 0.031867,
     "end_time": "2024-02-24T22:49:52.596902",
     "exception": false,
     "start_time": "2024-02-24T22:49:52.565035",
     "status": "completed"
    },
    "tags": []
   },
   "outputs": [],
   "source": [
    "df_num = train_data[['Age','SibSp','Parch','Fare']]\n",
    "df_cat = train_data[['Survived','Pclass','Sex','Ticket','Cabin','Embarked']]"
   ]
  },
  {
   "cell_type": "code",
   "execution_count": 6,
   "id": "2509b7e0",
   "metadata": {
    "_cell_guid": "9e90ebfe-4fdc-4d5a-917c-1fae98a60502",
    "_uuid": "2299ee0a-594e-4538-ac86-1a400e063bbe",
    "collapsed": false,
    "execution": {
     "iopub.execute_input": "2024-02-24T22:49:52.631476Z",
     "iopub.status.busy": "2024-02-24T22:49:52.630687Z",
     "iopub.status.idle": "2024-02-24T22:49:53.562566Z",
     "shell.execute_reply": "2024-02-24T22:49:53.561030Z"
    },
    "jupyter": {
     "outputs_hidden": false
    },
    "papermill": {
     "duration": 0.952502,
     "end_time": "2024-02-24T22:49:53.565349",
     "exception": false,
     "start_time": "2024-02-24T22:49:52.612847",
     "status": "completed"
    },
    "tags": []
   },
   "outputs": [
    {
     "data": {
      "image/png": "[encoded data removed]",
      "text/plain": [
       "<Figure size 640x480 with 1 Axes>"
      ]
     },
     "metadata": {},
     "output_type": "display_data"
    },
    {
     "data": {
      "image/png": "[encoded data removed]",
      "text/plain": [
       "<Figure size 640x480 with 1 Axes>"
      ]
     },
     "metadata": {},
     "output_type": "display_data"
    },
    {
     "data": {
      "image/png": "[encoded data removed]",
      "text/plain": [
       "<Figure size 640x480 with 1 Axes>"
      ]
     },
     "metadata": {},
     "output_type": "display_data"
    },
    {
     "data": {
      "image/png": "[encoded data removed]",
      "text/plain": [
       "<Figure size 640x480 with 1 Axes>"
      ]
     },
     "metadata": {},
     "output_type": "display_data"
    }
   ],
   "source": [
    "#distributions for all numeric variables \n",
    "for i in df_num.columns:\n",
    "    plt.hist(df_num[i])\n",
    "    plt.title(i)\n",
    "    plt.show()"
   ]
  },
  {
   "cell_type": "code",
   "execution_count": 7,
   "id": "fab14b72",
   "metadata": {
    "_cell_guid": "05c629f9-b789-4fca-a1c8-06b0c12171f9",
    "_uuid": "8789a6ee-5727-4ee4-8c18-0ed1d54443e7",
    "collapsed": false,
    "execution": {
     "iopub.execute_input": "2024-02-24T22:49:53.605389Z",
     "iopub.status.busy": "2024-02-24T22:49:53.604932Z",
     "iopub.status.idle": "2024-02-24T22:49:54.397470Z",
     "shell.execute_reply": "2024-02-24T22:49:54.395994Z"
    },
    "jupyter": {
     "outputs_hidden": false
    },
    "papermill": {
     "duration": 0.815912,
     "end_time": "2024-02-24T22:49:54.400353",
     "exception": false,
     "start_time": "2024-02-24T22:49:53.584441",
     "status": "completed"
    },
    "tags": []
   },
   "outputs": [
    {
     "data": {
      "image/png": "[encoded data removed]",
      "text/plain": [
       "<Figure size 640x480 with 1 Axes>"
      ]
     },
     "metadata": {},
     "output_type": "display_data"
    },
    {
     "data": {
      "image/png": "[encoded data removed]",
      "text/plain": [
       "<Figure size 640x480 with 1 Axes>"
      ]
     },
     "metadata": {},
     "output_type": "display_data"
    },
    {
     "data": {
      "image/png": "[encoded data removed]",
      "text/plain": [
       "<Figure size 640x480 with 1 Axes>"
      ]
     },
     "metadata": {},
     "output_type": "display_data"
    },
    {
     "data": {
      "image/png": "[encoded data removed]",
      "text/plain": [
       "<Figure size 640x480 with 1 Axes>"
      ]
     },
     "metadata": {},
     "output_type": "display_data"
    }
   ],
   "source": [
    "#distributions for all numeric variables \n",
    "for i in df_num.columns:\n",
    "    sn.boxplot(df_num[i])\n",
    "    plt.title(i)\n",
    "    plt.show()"
   ]
  },
  {
   "cell_type": "code",
   "execution_count": 8,
   "id": "5bd48f0d",
   "metadata": {
    "_cell_guid": "a211b5bf-94f3-44f4-82bf-80685deccc5e",
    "_uuid": "e5fac7f3-c5a5-407c-9ddb-b0528687a38d",
    "collapsed": false,
    "execution": {
     "iopub.execute_input": "2024-02-24T22:49:54.445440Z",
     "iopub.status.busy": "2024-02-24T22:49:54.445015Z",
     "iopub.status.idle": "2024-02-24T22:49:54.457376Z",
     "shell.execute_reply": "2024-02-24T22:49:54.456081Z"
    },
    "jupyter": {
     "outputs_hidden": false
    },
    "papermill": {
     "duration": 0.037332,
     "end_time": "2024-02-24T22:49:54.459666",
     "exception": false,
     "start_time": "2024-02-24T22:49:54.422334",
     "status": "completed"
    },
    "tags": []
   },
   "outputs": [
    {
     "data": {
      "text/plain": [
       "SibSp\n",
       "0    608\n",
       "1    209\n",
       "2     28\n",
       "4     18\n",
       "3     16\n",
       "8      7\n",
       "5      5\n",
       "Name: count, dtype: int64"
      ]
     },
     "execution_count": 8,
     "metadata": {},
     "output_type": "execute_result"
    }
   ],
   "source": [
    "train_data['SibSp'].value_counts()"
   ]
  },
  {
   "cell_type": "code",
   "execution_count": 9,
   "id": "014003fe",
   "metadata": {
    "_cell_guid": "59be8e48-98a4-4f10-a9cb-1bfb0cc20570",
    "_uuid": "8d24ab0f-4d09-4061-b943-cc9a0cce7249",
    "collapsed": false,
    "execution": {
     "iopub.execute_input": "2024-02-24T22:49:54.501200Z",
     "iopub.status.busy": "2024-02-24T22:49:54.500231Z",
     "iopub.status.idle": "2024-02-24T22:49:54.512044Z",
     "shell.execute_reply": "2024-02-24T22:49:54.510506Z"
    },
    "jupyter": {
     "outputs_hidden": false
    },
    "papermill": {
     "duration": 0.035503,
     "end_time": "2024-02-24T22:49:54.514745",
     "exception": false,
     "start_time": "2024-02-24T22:49:54.479242",
     "status": "completed"
    },
    "tags": []
   },
   "outputs": [
    {
     "data": {
      "text/plain": [
       "Parch\n",
       "0    678\n",
       "1    118\n",
       "2     80\n",
       "5      5\n",
       "3      5\n",
       "4      4\n",
       "6      1\n",
       "Name: count, dtype: int64"
      ]
     },
     "execution_count": 9,
     "metadata": {},
     "output_type": "execute_result"
    }
   ],
   "source": [
    "train_data['Parch'].value_counts()"
   ]
  },
  {
   "cell_type": "code",
   "execution_count": 10,
   "id": "5b77354d",
   "metadata": {
    "execution": {
     "iopub.execute_input": "2024-02-24T22:49:54.555141Z",
     "iopub.status.busy": "2024-02-24T22:49:54.554728Z",
     "iopub.status.idle": "2024-02-24T22:49:54.576037Z",
     "shell.execute_reply": "2024-02-24T22:49:54.574294Z"
    },
    "papermill": {
     "duration": 0.044407,
     "end_time": "2024-02-24T22:49:54.578459",
     "exception": false,
     "start_time": "2024-02-24T22:49:54.534052",
     "status": "completed"
    },
    "tags": []
   },
   "outputs": [
    {
     "data": {
      "text/html": [
       "<div>\n",
       "<style scoped>\n",
       "    .dataframe tbody tr th:only-of-type {\n",
       "        vertical-align: middle;\n",
       "    }\n",
       "\n",
       "    .dataframe tbody tr th {\n",
       "        vertical-align: top;\n",
       "    }\n",
       "\n",
       "    .dataframe thead th {\n",
       "        text-align: right;\n",
       "    }\n",
       "</style>\n",
       "<table border=\"1\" class=\"dataframe\">\n",
       "  <thead>\n",
       "    <tr style=\"text-align: right;\">\n",
       "      <th></th>\n",
       "      <th>Age</th>\n",
       "      <th>Fare</th>\n",
       "      <th>Parch</th>\n",
       "      <th>SibSp</th>\n",
       "    </tr>\n",
       "    <tr>\n",
       "      <th>Survived</th>\n",
       "      <th></th>\n",
       "      <th></th>\n",
       "      <th></th>\n",
       "      <th></th>\n",
       "    </tr>\n",
       "  </thead>\n",
       "  <tbody>\n",
       "    <tr>\n",
       "      <th>0</th>\n",
       "      <td>30.626179</td>\n",
       "      <td>22.117887</td>\n",
       "      <td>0.329690</td>\n",
       "      <td>0.553734</td>\n",
       "    </tr>\n",
       "    <tr>\n",
       "      <th>1</th>\n",
       "      <td>28.343690</td>\n",
       "      <td>48.395408</td>\n",
       "      <td>0.464912</td>\n",
       "      <td>0.473684</td>\n",
       "    </tr>\n",
       "  </tbody>\n",
       "</table>\n",
       "</div>"
      ],
      "text/plain": [
       "                Age       Fare     Parch     SibSp\n",
       "Survived                                          \n",
       "0         30.626179  22.117887  0.329690  0.553734\n",
       "1         28.343690  48.395408  0.464912  0.473684"
      ]
     },
     "execution_count": 10,
     "metadata": {},
     "output_type": "execute_result"
    }
   ],
   "source": [
    "pd.pivot_table(train_data, index = 'Survived', values = ['Age','SibSp','Parch','Fare'])"
   ]
  },
  {
   "cell_type": "code",
   "execution_count": 11,
   "id": "eb56bf05",
   "metadata": {
    "_cell_guid": "aee65560-6e70-4479-b48c-5c2b06e8962b",
    "_uuid": "a6f6a3d2-34ef-4b5f-ace2-1716d65fbf3f",
    "collapsed": false,
    "execution": {
     "iopub.execute_input": "2024-02-24T22:49:54.626819Z",
     "iopub.status.busy": "2024-02-24T22:49:54.624130Z",
     "iopub.status.idle": "2024-02-24T22:50:03.516951Z",
     "shell.execute_reply": "2024-02-24T22:50:03.515227Z"
    },
    "jupyter": {
     "outputs_hidden": false
    },
    "papermill": {
     "duration": 8.919493,
     "end_time": "2024-02-24T22:50:03.519672",
     "exception": false,
     "start_time": "2024-02-24T22:49:54.600179",
     "status": "completed"
    },
    "tags": []
   },
   "outputs": [
    {
     "data": {
      "image/png": "[encoded data removed]",
      "text/plain": [
       "<Figure size 640x480 with 1 Axes>"
      ]
     },
     "metadata": {},
     "output_type": "display_data"
    },
    {
     "data": {
      "image/png": "[encoded data removed]",
      "text/plain": [
       "<Figure size 640x480 with 1 Axes>"
      ]
     },
     "metadata": {},
     "output_type": "display_data"
    },
    {
     "data": {
      "image/png": "[encoded data removed]",
      "text/plain": [
       "<Figure size 640x480 with 1 Axes>"
      ]
     },
     "metadata": {},
     "output_type": "display_data"
    },
    {
     "data": {
      "image/png": "[encoded data removed]",
      "text/plain": [
       "<Figure size 640x480 with 1 Axes>"
      ]
     },
     "metadata": {},
     "output_type": "display_data"
    },
    {
     "data": {
      "image/png": "[encoded data removed]",
      "text/plain": [
       "<Figure size 640x480 with 1 Axes>"
      ]
     },
     "metadata": {},
     "output_type": "display_data"
    },
    {
     "data": {
      "image/png": "[encoded data removed]",
      "text/plain": [
       "<Figure size 640x480 with 1 Axes>"
      ]
     },
     "metadata": {},
     "output_type": "display_data"
    }
   ],
   "source": [
    "for i in df_cat.columns:\n",
    "    sn.barplot(x=df_cat[i].value_counts().index,y=df_cat[i].value_counts()).set_title(i)\n",
    "    plt.show()"
   ]
  },
  {
   "cell_type": "code",
   "execution_count": 12,
   "id": "bf8b5467",
   "metadata": {
    "execution": {
     "iopub.execute_input": "2024-02-24T22:50:03.564982Z",
     "iopub.status.busy": "2024-02-24T22:50:03.564572Z",
     "iopub.status.idle": "2024-02-24T22:50:03.586180Z",
     "shell.execute_reply": "2024-02-24T22:50:03.584559Z"
    },
    "papermill": {
     "duration": 0.047893,
     "end_time": "2024-02-24T22:50:03.590209",
     "exception": false,
     "start_time": "2024-02-24T22:50:03.542316",
     "status": "completed"
    },
    "tags": []
   },
   "outputs": [
    {
     "data": {
      "text/html": [
       "<div>\n",
       "<style scoped>\n",
       "    .dataframe tbody tr th:only-of-type {\n",
       "        vertical-align: middle;\n",
       "    }\n",
       "\n",
       "    .dataframe tbody tr th {\n",
       "        vertical-align: top;\n",
       "    }\n",
       "\n",
       "    .dataframe thead th {\n",
       "        text-align: right;\n",
       "    }\n",
       "</style>\n",
       "<table border=\"1\" class=\"dataframe\">\n",
       "  <thead>\n",
       "    <tr style=\"text-align: right;\">\n",
       "      <th>Pclass</th>\n",
       "      <th>1</th>\n",
       "      <th>2</th>\n",
       "      <th>3</th>\n",
       "    </tr>\n",
       "    <tr>\n",
       "      <th>Survived</th>\n",
       "      <th></th>\n",
       "      <th></th>\n",
       "      <th></th>\n",
       "    </tr>\n",
       "  </thead>\n",
       "  <tbody>\n",
       "    <tr>\n",
       "      <th>0</th>\n",
       "      <td>80</td>\n",
       "      <td>97</td>\n",
       "      <td>372</td>\n",
       "    </tr>\n",
       "    <tr>\n",
       "      <th>1</th>\n",
       "      <td>136</td>\n",
       "      <td>87</td>\n",
       "      <td>119</td>\n",
       "    </tr>\n",
       "  </tbody>\n",
       "</table>\n",
       "</div>"
      ],
      "text/plain": [
       "Pclass      1   2    3\n",
       "Survived              \n",
       "0          80  97  372\n",
       "1         136  87  119"
      ]
     },
     "execution_count": 12,
     "metadata": {},
     "output_type": "execute_result"
    }
   ],
   "source": [
    "pd.pivot_table(train_data, index = 'Survived', columns = 'Pclass', values = 'Ticket' ,aggfunc ='count')"
   ]
  },
  {
   "cell_type": "code",
   "execution_count": 13,
   "id": "d48f4d98",
   "metadata": {
    "_cell_guid": "028b46de-425e-4acc-b915-f94ae432d718",
    "_uuid": "3becf352-482c-4b5c-8bf0-4659eaac721e",
    "execution": {
     "iopub.execute_input": "2024-02-24T22:50:03.639098Z",
     "iopub.status.busy": "2024-02-24T22:50:03.638526Z",
     "iopub.status.idle": "2024-02-24T22:50:03.656843Z",
     "shell.execute_reply": "2024-02-24T22:50:03.655762Z"
    },
    "papermill": {
     "duration": 0.044294,
     "end_time": "2024-02-24T22:50:03.659227",
     "exception": false,
     "start_time": "2024-02-24T22:50:03.614933",
     "status": "completed"
    },
    "tags": []
   },
   "outputs": [
    {
     "data": {
      "text/html": [
       "<div>\n",
       "<style scoped>\n",
       "    .dataframe tbody tr th:only-of-type {\n",
       "        vertical-align: middle;\n",
       "    }\n",
       "\n",
       "    .dataframe tbody tr th {\n",
       "        vertical-align: top;\n",
       "    }\n",
       "\n",
       "    .dataframe thead th {\n",
       "        text-align: right;\n",
       "    }\n",
       "</style>\n",
       "<table border=\"1\" class=\"dataframe\">\n",
       "  <thead>\n",
       "    <tr style=\"text-align: right;\">\n",
       "      <th>Sex</th>\n",
       "      <th>female</th>\n",
       "      <th>male</th>\n",
       "    </tr>\n",
       "    <tr>\n",
       "      <th>Survived</th>\n",
       "      <th></th>\n",
       "      <th></th>\n",
       "    </tr>\n",
       "  </thead>\n",
       "  <tbody>\n",
       "    <tr>\n",
       "      <th>0</th>\n",
       "      <td>81</td>\n",
       "      <td>468</td>\n",
       "    </tr>\n",
       "    <tr>\n",
       "      <th>1</th>\n",
       "      <td>233</td>\n",
       "      <td>109</td>\n",
       "    </tr>\n",
       "  </tbody>\n",
       "</table>\n",
       "</div>"
      ],
      "text/plain": [
       "Sex       female  male\n",
       "Survived              \n",
       "0             81   468\n",
       "1            233   109"
      ]
     },
     "execution_count": 13,
     "metadata": {},
     "output_type": "execute_result"
    }
   ],
   "source": [
    "pd.pivot_table(train_data, index = 'Survived', columns = 'Sex', values = 'Ticket' ,aggfunc ='count')"
   ]
  },
  {
   "cell_type": "code",
   "execution_count": 14,
   "id": "e6d3b9d0",
   "metadata": {
    "_cell_guid": "a6427c85-602a-45ca-83d3-1abc6704a051",
    "_uuid": "ff882019-449c-42bb-b2d1-0b57e17c77a6",
    "collapsed": false,
    "execution": {
     "iopub.execute_input": "2024-02-24T22:50:03.705665Z",
     "iopub.status.busy": "2024-02-24T22:50:03.705256Z",
     "iopub.status.idle": "2024-02-24T22:50:03.724086Z",
     "shell.execute_reply": "2024-02-24T22:50:03.722928Z"
    },
    "jupyter": {
     "outputs_hidden": false
    },
    "papermill": {
     "duration": 0.045326,
     "end_time": "2024-02-24T22:50:03.727700",
     "exception": false,
     "start_time": "2024-02-24T22:50:03.682374",
     "status": "completed"
    },
    "tags": []
   },
   "outputs": [
    {
     "data": {
      "text/html": [
       "<div>\n",
       "<style scoped>\n",
       "    .dataframe tbody tr th:only-of-type {\n",
       "        vertical-align: middle;\n",
       "    }\n",
       "\n",
       "    .dataframe tbody tr th {\n",
       "        vertical-align: top;\n",
       "    }\n",
       "\n",
       "    .dataframe thead th {\n",
       "        text-align: right;\n",
       "    }\n",
       "</style>\n",
       "<table border=\"1\" class=\"dataframe\">\n",
       "  <thead>\n",
       "    <tr style=\"text-align: right;\">\n",
       "      <th>Embarked</th>\n",
       "      <th>C</th>\n",
       "      <th>Q</th>\n",
       "      <th>S</th>\n",
       "    </tr>\n",
       "    <tr>\n",
       "      <th>Survived</th>\n",
       "      <th></th>\n",
       "      <th></th>\n",
       "      <th></th>\n",
       "    </tr>\n",
       "  </thead>\n",
       "  <tbody>\n",
       "    <tr>\n",
       "      <th>0</th>\n",
       "      <td>75</td>\n",
       "      <td>47</td>\n",
       "      <td>427</td>\n",
       "    </tr>\n",
       "    <tr>\n",
       "      <th>1</th>\n",
       "      <td>93</td>\n",
       "      <td>30</td>\n",
       "      <td>217</td>\n",
       "    </tr>\n",
       "  </tbody>\n",
       "</table>\n",
       "</div>"
      ],
      "text/plain": [
       "Embarked   C   Q    S\n",
       "Survived             \n",
       "0         75  47  427\n",
       "1         93  30  217"
      ]
     },
     "execution_count": 14,
     "metadata": {},
     "output_type": "execute_result"
    }
   ],
   "source": [
    "pd.pivot_table(train_data, index = 'Survived', columns = 'Embarked', values = 'Ticket' ,aggfunc ='count')"
   ]
  },
  {
   "cell_type": "code",
   "execution_count": 15,
   "id": "11a76467",
   "metadata": {
    "_cell_guid": "e50f7fa3-09f4-4ac5-864b-768b98d21027",
    "_uuid": "c2b1a046-43bd-4a02-ab2d-730cb868664c",
    "collapsed": false,
    "execution": {
     "iopub.execute_input": "2024-02-24T22:50:03.773310Z",
     "iopub.status.busy": "2024-02-24T22:50:03.772913Z",
     "iopub.status.idle": "2024-02-24T22:50:04.061540Z",
     "shell.execute_reply": "2024-02-24T22:50:04.059861Z"
    },
    "jupyter": {
     "outputs_hidden": false
    },
    "papermill": {
     "duration": 0.315526,
     "end_time": "2024-02-24T22:50:04.065355",
     "exception": false,
     "start_time": "2024-02-24T22:50:03.749829",
     "status": "completed"
    },
    "tags": []
   },
   "outputs": [
    {
     "data": {
      "text/plain": [
       "<Axes: >"
      ]
     },
     "execution_count": 15,
     "metadata": {},
     "output_type": "execute_result"
    },
    {
     "data": {
      "image/png": "[encoded data removed]",
      "text/plain": [
       "<Figure size 640x480 with 2 Axes>"
      ]
     },
     "metadata": {},
     "output_type": "display_data"
    }
   ],
   "source": [
    "corr = df_num.corr()\n",
    "sn.heatmap(corr)"
   ]
  },
  {
   "cell_type": "code",
   "execution_count": 16,
   "id": "5185d55d",
   "metadata": {
    "execution": {
     "iopub.execute_input": "2024-02-24T22:50:04.117357Z",
     "iopub.status.busy": "2024-02-24T22:50:04.116871Z",
     "iopub.status.idle": "2024-02-24T22:50:04.594236Z",
     "shell.execute_reply": "2024-02-24T22:50:04.592935Z"
    },
    "papermill": {
     "duration": 0.506809,
     "end_time": "2024-02-24T22:50:04.596729",
     "exception": false,
     "start_time": "2024-02-24T22:50:04.089920",
     "status": "completed"
    },
    "tags": []
   },
   "outputs": [
    {
     "data": {
      "text/plain": [
       "<Axes: >"
      ]
     },
     "execution_count": 16,
     "metadata": {},
     "output_type": "execute_result"
    },
    {
     "data": {
      "image/png": "[encoded data removed]",
      "text/plain": [
       "<Figure size 1500x1000 with 2 Axes>"
      ]
     },
     "metadata": {},
     "output_type": "display_data"
    }
   ],
   "source": [
    "#A better example (formatting used in below chart) - https://seaborn.pydata.org/examples/many_pairwise_correlations.html \n",
    "\n",
    "sn.set_theme(style=\"white\")\n",
    "\n",
    "# Compute the correlation matrix\n",
    "corr = df_num.corr()\n",
    "\n",
    "# Generate a mask for the upper triangle (otherwise this looks like the square we had above and is redundant)\n",
    "mask = np.triu(np.ones_like(corr, dtype=bool))\n",
    "\n",
    "# Set up the matplotlib figure \n",
    "f, ax = plt.subplots(figsize=(15, 10))\n",
    "\n",
    "# Generate a custom diverging colormap (choose colors here)\n",
    "cmap = sn.diverging_palette(230, 20, as_cmap=True)\n",
    "\n",
    "# Draw the heatmap with the mask and correct aspect ratio \n",
    "sn.heatmap(corr, mask=mask, cmap=cmap, center=0,\n",
    "            square=True, linewidths=.5, cbar_kws={\"shrink\": .5}, annot=True, annot_kws={\"fontsize\":8})"
   ]
  },
  {
   "cell_type": "code",
   "execution_count": 17,
   "id": "9e03d423",
   "metadata": {
    "_cell_guid": "50caf982-9009-4434-8008-d84877906471",
    "_uuid": "51d3f61a-573a-4315-a8de-c0ecb76a6779",
    "collapsed": false,
    "execution": {
     "iopub.execute_input": "2024-02-24T22:50:04.711681Z",
     "iopub.status.busy": "2024-02-24T22:50:04.711255Z",
     "iopub.status.idle": "2024-02-24T22:50:04.728065Z",
     "shell.execute_reply": "2024-02-24T22:50:04.727205Z"
    },
    "jupyter": {
     "outputs_hidden": false
    },
    "papermill": {
     "duration": 0.042464,
     "end_time": "2024-02-24T22:50:04.730494",
     "exception": false,
     "start_time": "2024-02-24T22:50:04.688030",
     "status": "completed"
    },
    "tags": []
   },
   "outputs": [
    {
     "data": {
      "text/html": [
       "<div>\n",
       "<style scoped>\n",
       "    .dataframe tbody tr th:only-of-type {\n",
       "        vertical-align: middle;\n",
       "    }\n",
       "\n",
       "    .dataframe tbody tr th {\n",
       "        vertical-align: top;\n",
       "    }\n",
       "\n",
       "    .dataframe thead th {\n",
       "        text-align: right;\n",
       "    }\n",
       "</style>\n",
       "<table border=\"1\" class=\"dataframe\">\n",
       "  <thead>\n",
       "    <tr style=\"text-align: right;\">\n",
       "      <th></th>\n",
       "      <th>Age</th>\n",
       "      <th>Fare</th>\n",
       "      <th>Parch</th>\n",
       "      <th>SibSp</th>\n",
       "    </tr>\n",
       "    <tr>\n",
       "      <th>Survived</th>\n",
       "      <th></th>\n",
       "      <th></th>\n",
       "      <th></th>\n",
       "      <th></th>\n",
       "    </tr>\n",
       "  </thead>\n",
       "  <tbody>\n",
       "    <tr>\n",
       "      <th>0</th>\n",
       "      <td>30.626179</td>\n",
       "      <td>22.117887</td>\n",
       "      <td>0.329690</td>\n",
       "      <td>0.553734</td>\n",
       "    </tr>\n",
       "    <tr>\n",
       "      <th>1</th>\n",
       "      <td>28.343690</td>\n",
       "      <td>48.395408</td>\n",
       "      <td>0.464912</td>\n",
       "      <td>0.473684</td>\n",
       "    </tr>\n",
       "  </tbody>\n",
       "</table>\n",
       "</div>"
      ],
      "text/plain": [
       "                Age       Fare     Parch     SibSp\n",
       "Survived                                          \n",
       "0         30.626179  22.117887  0.329690  0.553734\n",
       "1         28.343690  48.395408  0.464912  0.473684"
      ]
     },
     "execution_count": 17,
     "metadata": {},
     "output_type": "execute_result"
    }
   ],
   "source": [
    "# compare survival rate across Age, SibSp, Parch, and Fare \n",
    "pd.pivot_table(train_data, index = 'Survived', values = ['Age','SibSp','Parch','Fare'])"
   ]
  },
  {
   "cell_type": "markdown",
   "id": "5a6ba171",
   "metadata": {
    "papermill": {
     "duration": 0.022402,
     "end_time": "2024-02-24T22:50:04.776539",
     "exception": false,
     "start_time": "2024-02-24T22:50:04.754137",
     "status": "completed"
    },
    "tags": []
   },
   "source": [
    "# **Data Cleaning**"
   ]
  },
  {
   "cell_type": "code",
   "execution_count": 18,
   "id": "75f62b82",
   "metadata": {
    "execution": {
     "iopub.execute_input": "2024-02-24T22:50:04.824413Z",
     "iopub.status.busy": "2024-02-24T22:50:04.823681Z",
     "iopub.status.idle": "2024-02-24T22:50:04.831699Z",
     "shell.execute_reply": "2024-02-24T22:50:04.830689Z"
    },
    "papermill": {
     "duration": 0.035376,
     "end_time": "2024-02-24T22:50:04.834410",
     "exception": false,
     "start_time": "2024-02-24T22:50:04.799034",
     "status": "completed"
    },
    "tags": []
   },
   "outputs": [
    {
     "data": {
      "text/plain": [
       "PassengerId      0\n",
       "Survived         0\n",
       "Pclass           0\n",
       "Name             0\n",
       "Sex              0\n",
       "Age            177\n",
       "SibSp            0\n",
       "Parch            0\n",
       "Ticket           0\n",
       "Fare             0\n",
       "Cabin          687\n",
       "Embarked         2\n",
       "dtype: int64"
      ]
     },
     "execution_count": 18,
     "metadata": {},
     "output_type": "execute_result"
    }
   ],
   "source": [
    "train_data.isnull().sum()"
   ]
  },
  {
   "cell_type": "code",
   "execution_count": 19,
   "id": "417c3e3c",
   "metadata": {
    "execution": {
     "iopub.execute_input": "2024-02-24T22:50:04.882329Z",
     "iopub.status.busy": "2024-02-24T22:50:04.881878Z",
     "iopub.status.idle": "2024-02-24T22:50:04.899434Z",
     "shell.execute_reply": "2024-02-24T22:50:04.898221Z"
    },
    "papermill": {
     "duration": 0.044602,
     "end_time": "2024-02-24T22:50:04.901818",
     "exception": false,
     "start_time": "2024-02-24T22:50:04.857216",
     "status": "completed"
    },
    "tags": []
   },
   "outputs": [
    {
     "data": {
      "text/html": [
       "<div>\n",
       "<style scoped>\n",
       "    .dataframe tbody tr th:only-of-type {\n",
       "        vertical-align: middle;\n",
       "    }\n",
       "\n",
       "    .dataframe tbody tr th {\n",
       "        vertical-align: top;\n",
       "    }\n",
       "\n",
       "    .dataframe thead th {\n",
       "        text-align: right;\n",
       "    }\n",
       "</style>\n",
       "<table border=\"1\" class=\"dataframe\">\n",
       "  <thead>\n",
       "    <tr style=\"text-align: right;\">\n",
       "      <th></th>\n",
       "      <th>null_count</th>\n",
       "      <th>null_pct</th>\n",
       "    </tr>\n",
       "  </thead>\n",
       "  <tbody>\n",
       "    <tr>\n",
       "      <th>PassengerId</th>\n",
       "      <td>0</td>\n",
       "      <td>0.000000</td>\n",
       "    </tr>\n",
       "    <tr>\n",
       "      <th>Survived</th>\n",
       "      <td>0</td>\n",
       "      <td>0.000000</td>\n",
       "    </tr>\n",
       "    <tr>\n",
       "      <th>Pclass</th>\n",
       "      <td>0</td>\n",
       "      <td>0.000000</td>\n",
       "    </tr>\n",
       "    <tr>\n",
       "      <th>Name</th>\n",
       "      <td>0</td>\n",
       "      <td>0.000000</td>\n",
       "    </tr>\n",
       "    <tr>\n",
       "      <th>Sex</th>\n",
       "      <td>0</td>\n",
       "      <td>0.000000</td>\n",
       "    </tr>\n",
       "    <tr>\n",
       "      <th>Age</th>\n",
       "      <td>177</td>\n",
       "      <td>0.198653</td>\n",
       "    </tr>\n",
       "    <tr>\n",
       "      <th>SibSp</th>\n",
       "      <td>0</td>\n",
       "      <td>0.000000</td>\n",
       "    </tr>\n",
       "    <tr>\n",
       "      <th>Parch</th>\n",
       "      <td>0</td>\n",
       "      <td>0.000000</td>\n",
       "    </tr>\n",
       "    <tr>\n",
       "      <th>Ticket</th>\n",
       "      <td>0</td>\n",
       "      <td>0.000000</td>\n",
       "    </tr>\n",
       "    <tr>\n",
       "      <th>Fare</th>\n",
       "      <td>0</td>\n",
       "      <td>0.000000</td>\n",
       "    </tr>\n",
       "    <tr>\n",
       "      <th>Cabin</th>\n",
       "      <td>687</td>\n",
       "      <td>0.771044</td>\n",
       "    </tr>\n",
       "    <tr>\n",
       "      <th>Embarked</th>\n",
       "      <td>2</td>\n",
       "      <td>0.002245</td>\n",
       "    </tr>\n",
       "  </tbody>\n",
       "</table>\n",
       "</div>"
      ],
      "text/plain": [
       "             null_count  null_pct\n",
       "PassengerId           0  0.000000\n",
       "Survived              0  0.000000\n",
       "Pclass                0  0.000000\n",
       "Name                  0  0.000000\n",
       "Sex                   0  0.000000\n",
       "Age                 177  0.198653\n",
       "SibSp                 0  0.000000\n",
       "Parch                 0  0.000000\n",
       "Ticket                0  0.000000\n",
       "Fare                  0  0.000000\n",
       "Cabin               687  0.771044\n",
       "Embarked              2  0.002245"
      ]
     },
     "execution_count": 19,
     "metadata": {},
     "output_type": "execute_result"
    }
   ],
   "source": [
    "def nulls_summary_table(df):\n",
    "    \"\"\"\n",
    "    Returns a summary table showing null value counts and percentage\n",
    "    \n",
    "    Parameters:\n",
    "    df (DataFrame): Dataframe to check\n",
    "    \n",
    "    Returns:\n",
    "    null_values (DataFrame)\n",
    "    \"\"\"\n",
    "    null_values = pd.DataFrame(df.isnull().sum())\n",
    "    null_values[1] = null_values[0]/len(df)\n",
    "    null_values.columns = ['null_count','null_pct']\n",
    "    return null_values\n",
    "\n",
    "nulls_summary_table(train_data)"
   ]
  },
  {
   "cell_type": "code",
   "execution_count": 20,
   "id": "b004b8e6",
   "metadata": {
    "execution": {
     "iopub.execute_input": "2024-02-24T22:50:04.952931Z",
     "iopub.status.busy": "2024-02-24T22:50:04.952289Z",
     "iopub.status.idle": "2024-02-24T22:50:04.960630Z",
     "shell.execute_reply": "2024-02-24T22:50:04.959325Z"
    },
    "papermill": {
     "duration": 0.038056,
     "end_time": "2024-02-24T22:50:04.963112",
     "exception": false,
     "start_time": "2024-02-24T22:50:04.925056",
     "status": "completed"
    },
    "tags": []
   },
   "outputs": [],
   "source": [
    "# We delete the rows where the variable 'Embarked' is null because there are only 2 null values\n",
    "train_data.dropna(subset=['Embarked'],inplace = True)\n",
    "#test_data.dropna(subset=['Embarked'],inplace = True)"
   ]
  },
  {
   "cell_type": "code",
   "execution_count": 21,
   "id": "db66eb48",
   "metadata": {
    "execution": {
     "iopub.execute_input": "2024-02-24T22:50:05.016217Z",
     "iopub.status.busy": "2024-02-24T22:50:05.015752Z",
     "iopub.status.idle": "2024-02-24T22:50:05.024019Z",
     "shell.execute_reply": "2024-02-24T22:50:05.022697Z"
    },
    "papermill": {
     "duration": 0.039603,
     "end_time": "2024-02-24T22:50:05.026618",
     "exception": false,
     "start_time": "2024-02-24T22:50:04.987015",
     "status": "completed"
    },
    "tags": []
   },
   "outputs": [],
   "source": [
    "train_data.Age = train_data.Age.fillna(train_data.Age.median())\n",
    "test_data.Age = test_data.Age.fillna(test_data.Age.median())"
   ]
  },
  {
   "cell_type": "code",
   "execution_count": 22,
   "id": "e494d9b8",
   "metadata": {
    "execution": {
     "iopub.execute_input": "2024-02-24T22:50:05.074754Z",
     "iopub.status.busy": "2024-02-24T22:50:05.074067Z",
     "iopub.status.idle": "2024-02-24T22:50:05.084501Z",
     "shell.execute_reply": "2024-02-24T22:50:05.082551Z"
    },
    "papermill": {
     "duration": 0.038053,
     "end_time": "2024-02-24T22:50:05.087650",
     "exception": false,
     "start_time": "2024-02-24T22:50:05.049597",
     "status": "completed"
    },
    "tags": []
   },
   "outputs": [
    {
     "data": {
      "text/plain": [
       "PassengerId      0\n",
       "Survived         0\n",
       "Pclass           0\n",
       "Name             0\n",
       "Sex              0\n",
       "Age              0\n",
       "SibSp            0\n",
       "Parch            0\n",
       "Ticket           0\n",
       "Fare             0\n",
       "Cabin          687\n",
       "Embarked         0\n",
       "dtype: int64"
      ]
     },
     "execution_count": 22,
     "metadata": {},
     "output_type": "execute_result"
    }
   ],
   "source": [
    "train_data.isnull().sum()"
   ]
  },
  {
   "cell_type": "markdown",
   "id": "d1f2e83d",
   "metadata": {
    "papermill": {
     "duration": 0.025407,
     "end_time": "2024-02-24T22:50:05.138069",
     "exception": false,
     "start_time": "2024-02-24T22:50:05.112662",
     "status": "completed"
    },
    "tags": []
   },
   "source": [
    "## Outliers Detection"
   ]
  },
  {
   "cell_type": "markdown",
   "id": "02965dda",
   "metadata": {
    "papermill": {
     "duration": 0.030365,
     "end_time": "2024-02-24T22:50:05.195513",
     "exception": false,
     "start_time": "2024-02-24T22:50:05.165148",
     "status": "completed"
    },
    "tags": []
   },
   "source": [
    "Identify outliers with the interquartile interval."
   ]
  },
  {
   "cell_type": "code",
   "execution_count": 23,
   "id": "9b281247",
   "metadata": {
    "execution": {
     "iopub.execute_input": "2024-02-24T22:50:05.251713Z",
     "iopub.status.busy": "2024-02-24T22:50:05.251288Z",
     "iopub.status.idle": "2024-02-24T22:50:05.258333Z",
     "shell.execute_reply": "2024-02-24T22:50:05.256745Z"
    },
    "papermill": {
     "duration": 0.038884,
     "end_time": "2024-02-24T22:50:05.261147",
     "exception": false,
     "start_time": "2024-02-24T22:50:05.222263",
     "status": "completed"
    },
    "tags": []
   },
   "outputs": [],
   "source": [
    "def extract_outliers_from_boxplot(array):\n",
    "    ## Get IQR\n",
    "    iqr_q1 = np.quantile(array, 0.25)\n",
    "    iqr_q3 = np.quantile(array, 0.75)\n",
    "    med = np.median(array)\n",
    "\n",
    "    # finding the iqr region\n",
    "    iqr = iqr_q3-iqr_q1\n",
    "\n",
    "    # finding upper and lower whiskers\n",
    "    upper_bound = iqr_q3+(1.5*iqr)\n",
    "    lower_bound = iqr_q1-(1.5*iqr)\n",
    "\n",
    "    outliers = array[(array <= lower_bound) | (array >= upper_bound)]\n",
    "    print('Outliers within the box plot are :{}'.format(outliers))\n",
    "    return outliers"
   ]
  },
  {
   "cell_type": "code",
   "execution_count": 24,
   "id": "af4f5b64",
   "metadata": {
    "execution": {
     "iopub.execute_input": "2024-02-24T22:50:05.318601Z",
     "iopub.status.busy": "2024-02-24T22:50:05.317732Z",
     "iopub.status.idle": "2024-02-24T22:50:05.327368Z",
     "shell.execute_reply": "2024-02-24T22:50:05.325930Z"
    },
    "papermill": {
     "duration": 0.042881,
     "end_time": "2024-02-24T22:50:05.331339",
     "exception": false,
     "start_time": "2024-02-24T22:50:05.288458",
     "status": "completed"
    },
    "tags": []
   },
   "outputs": [
    {
     "name": "stdout",
     "output_type": "stream",
     "text": [
      "Outliers within the box plot are :7       2.00\n",
      "11     58.00\n",
      "15     55.00\n",
      "16      2.00\n",
      "33     66.00\n",
      "       ...  \n",
      "824     2.00\n",
      "827     1.00\n",
      "831     0.83\n",
      "851    74.00\n",
      "879    56.00\n",
      "Name: Age, Length: 65, dtype: float64\n"
     ]
    }
   ],
   "source": [
    "outliers_age = extract_outliers_from_boxplot(train_data['Age'])"
   ]
  },
  {
   "cell_type": "code",
   "execution_count": 25,
   "id": "cc5a2c18",
   "metadata": {
    "execution": {
     "iopub.execute_input": "2024-02-24T22:50:05.387451Z",
     "iopub.status.busy": "2024-02-24T22:50:05.386259Z",
     "iopub.status.idle": "2024-02-24T22:50:05.395634Z",
     "shell.execute_reply": "2024-02-24T22:50:05.393944Z"
    },
    "papermill": {
     "duration": 0.039988,
     "end_time": "2024-02-24T22:50:05.398022",
     "exception": false,
     "start_time": "2024-02-24T22:50:05.358034",
     "status": "completed"
    },
    "tags": []
   },
   "outputs": [
    {
     "name": "stdout",
     "output_type": "stream",
     "text": [
      "Outliers within the box plot are :7      3\n",
      "16     4\n",
      "24     3\n",
      "27     3\n",
      "50     4\n",
      "59     5\n",
      "63     3\n",
      "68     4\n",
      "71     5\n",
      "85     3\n",
      "88     3\n",
      "119    4\n",
      "159    8\n",
      "164    4\n",
      "171    4\n",
      "176    3\n",
      "180    8\n",
      "182    4\n",
      "201    8\n",
      "229    3\n",
      "233    4\n",
      "261    4\n",
      "266    4\n",
      "278    4\n",
      "324    8\n",
      "341    3\n",
      "374    3\n",
      "386    5\n",
      "409    3\n",
      "480    5\n",
      "485    3\n",
      "541    4\n",
      "542    4\n",
      "634    3\n",
      "642    3\n",
      "683    5\n",
      "686    4\n",
      "726    3\n",
      "787    4\n",
      "792    8\n",
      "813    4\n",
      "819    3\n",
      "824    4\n",
      "846    8\n",
      "850    4\n",
      "863    8\n",
      "Name: SibSp, dtype: int64\n"
     ]
    }
   ],
   "source": [
    "outliers_SibSp = extract_outliers_from_boxplot(train_data['SibSp'])"
   ]
  },
  {
   "cell_type": "code",
   "execution_count": 26,
   "id": "d8fb30c7",
   "metadata": {
    "execution": {
     "iopub.execute_input": "2024-02-24T22:50:05.449492Z",
     "iopub.status.busy": "2024-02-24T22:50:05.447892Z",
     "iopub.status.idle": "2024-02-24T22:50:06.467723Z",
     "shell.execute_reply": "2024-02-24T22:50:06.465910Z"
    },
    "papermill": {
     "duration": 1.049128,
     "end_time": "2024-02-24T22:50:06.471334",
     "exception": false,
     "start_time": "2024-02-24T22:50:05.422206",
     "status": "completed"
    },
    "tags": []
   },
   "outputs": [
    {
     "data": {
      "image/png": "[encoded data removed]",
      "text/plain": [
       "<Figure size 640x480 with 1 Axes>"
      ]
     },
     "metadata": {},
     "output_type": "display_data"
    },
    {
     "data": {
      "image/png": "[encoded data removed]",
      "text/plain": [
       "<Figure size 640x480 with 1 Axes>"
      ]
     },
     "metadata": {},
     "output_type": "display_data"
    },
    {
     "data": {
      "image/png": "[encoded data removed]",
      "text/plain": [
       "<Figure size 640x480 with 1 Axes>"
      ]
     },
     "metadata": {},
     "output_type": "display_data"
    },
    {
     "data": {
      "image/png": "[encoded data removed]",
      "text/plain": [
       "<Figure size 640x480 with 1 Axes>"
      ]
     },
     "metadata": {},
     "output_type": "display_data"
    }
   ],
   "source": [
    "#distributions for all numeric variables \n",
    "for i in df_num.columns:\n",
    "    sn.violinplot(df_num[i])\n",
    "    plt.title(i)\n",
    "    plt.show()"
   ]
  },
  {
   "cell_type": "markdown",
   "id": "d91e9e2f",
   "metadata": {
    "papermill": {
     "duration": 0.026654,
     "end_time": "2024-02-24T22:50:06.524626",
     "exception": false,
     "start_time": "2024-02-24T22:50:06.497972",
     "status": "completed"
    },
    "tags": []
   },
   "source": [
    "Identify outliers with z-scores"
   ]
  },
  {
   "cell_type": "code",
   "execution_count": 27,
   "id": "f124ba35",
   "metadata": {
    "execution": {
     "iopub.execute_input": "2024-02-24T22:50:06.577583Z",
     "iopub.status.busy": "2024-02-24T22:50:06.576030Z",
     "iopub.status.idle": "2024-02-24T22:50:06.584133Z",
     "shell.execute_reply": "2024-02-24T22:50:06.582930Z"
    },
    "papermill": {
     "duration": 0.038892,
     "end_time": "2024-02-24T22:50:06.588163",
     "exception": false,
     "start_time": "2024-02-24T22:50:06.549271",
     "status": "completed"
    },
    "tags": []
   },
   "outputs": [],
   "source": [
    "def percentile_outliers(array,\n",
    "                        lower_bound_perc,\n",
    "                        upper_bound_perc):\n",
    "    \n",
    "    upper_bound = np.percentile(array, upper_bound_perc)\n",
    "    lower_bound = np.percentile(array, lower_bound_perc)\n",
    "    \n",
    "    outliers = array[(array <= lower_bound) | (array >= upper_bound)]\n",
    "    \n",
    "    return outliers\n",
    "\n",
    "def z_score_outliers(array,\n",
    "                     z_score_lower,\n",
    "                     z_score_upper):\n",
    "\n",
    "    z_scores = scipy.stats.zscore(array)\n",
    "    outliers = (z_scores > 1.96) | (z_scores < -1.96)\n",
    "    \n",
    "    return array[outliers]"
   ]
  },
  {
   "cell_type": "code",
   "execution_count": 28,
   "id": "c2f53cbe",
   "metadata": {
    "execution": {
     "iopub.execute_input": "2024-02-24T22:50:06.642004Z",
     "iopub.status.busy": "2024-02-24T22:50:06.641559Z",
     "iopub.status.idle": "2024-02-24T22:50:06.655311Z",
     "shell.execute_reply": "2024-02-24T22:50:06.653464Z"
    },
    "papermill": {
     "duration": 0.046137,
     "end_time": "2024-02-24T22:50:06.658710",
     "exception": false,
     "start_time": "2024-02-24T22:50:06.612573",
     "status": "completed"
    },
    "tags": []
   },
   "outputs": [
    {
     "data": {
      "text/plain": [
       "33     66.00\n",
       "54     65.00\n",
       "78      0.83\n",
       "96     71.00\n",
       "116    70.50\n",
       "164     1.00\n",
       "172     1.00\n",
       "183     1.00\n",
       "280    65.00\n",
       "305     0.92\n",
       "381     1.00\n",
       "386     1.00\n",
       "456    65.00\n",
       "469     0.75\n",
       "493    71.00\n",
       "630    80.00\n",
       "644     0.75\n",
       "672    70.00\n",
       "745    70.00\n",
       "755     0.67\n",
       "788     1.00\n",
       "803     0.42\n",
       "827     1.00\n",
       "831     0.83\n",
       "851    74.00\n",
       "Name: Age, dtype: float64"
      ]
     },
     "execution_count": 28,
     "metadata": {},
     "output_type": "execute_result"
    }
   ],
   "source": [
    "percentile_outliers(train_data['Age'],\n",
    "                    upper_bound_perc = 99,\n",
    "                    lower_bound_perc = 1)"
   ]
  },
  {
   "cell_type": "code",
   "execution_count": 29,
   "id": "36163f64",
   "metadata": {
    "execution": {
     "iopub.execute_input": "2024-02-24T22:50:06.718325Z",
     "iopub.status.busy": "2024-02-24T22:50:06.717444Z",
     "iopub.status.idle": "2024-02-24T22:50:06.733457Z",
     "shell.execute_reply": "2024-02-24T22:50:06.731955Z"
    },
    "papermill": {
     "duration": 0.047782,
     "end_time": "2024-02-24T22:50:06.736168",
     "exception": false,
     "start_time": "2024-02-24T22:50:06.688386",
     "status": "completed"
    },
    "tags": []
   },
   "outputs": [
    {
     "data": {
      "text/plain": [
       "7       2.00\n",
       "11     58.00\n",
       "15     55.00\n",
       "16      2.00\n",
       "33     66.00\n",
       "       ...  \n",
       "824     2.00\n",
       "827     1.00\n",
       "831     0.83\n",
       "851    74.00\n",
       "879    56.00\n",
       "Name: Age, Length: 71, dtype: float64"
      ]
     },
     "execution_count": 29,
     "metadata": {},
     "output_type": "execute_result"
    }
   ],
   "source": [
    "z_score_outliers(train_data['Age'],\n",
    "                 z_score_lower = -1.96,\n",
    "                 z_score_upper = 1.96)"
   ]
  },
  {
   "cell_type": "markdown",
   "id": "9c86864a",
   "metadata": {
    "papermill": {
     "duration": 0.025388,
     "end_time": "2024-02-24T22:50:06.789114",
     "exception": false,
     "start_time": "2024-02-24T22:50:06.763726",
     "status": "completed"
    },
    "tags": []
   },
   "source": [
    "### Isolation Forest To detect Outliers"
   ]
  },
  {
   "cell_type": "code",
   "execution_count": 30,
   "id": "64600d9a",
   "metadata": {
    "execution": {
     "iopub.execute_input": "2024-02-24T22:50:06.842433Z",
     "iopub.status.busy": "2024-02-24T22:50:06.842020Z",
     "iopub.status.idle": "2024-02-24T22:50:07.207277Z",
     "shell.execute_reply": "2024-02-24T22:50:07.205397Z"
    },
    "papermill": {
     "duration": 0.397346,
     "end_time": "2024-02-24T22:50:07.211041",
     "exception": false,
     "start_time": "2024-02-24T22:50:06.813695",
     "status": "completed"
    },
    "tags": []
   },
   "outputs": [
    {
     "data": {
      "text/html": [
       "<div>\n",
       "<style scoped>\n",
       "    .dataframe tbody tr th:only-of-type {\n",
       "        vertical-align: middle;\n",
       "    }\n",
       "\n",
       "    .dataframe tbody tr th {\n",
       "        vertical-align: top;\n",
       "    }\n",
       "\n",
       "    .dataframe thead th {\n",
       "        text-align: right;\n",
       "    }\n",
       "</style>\n",
       "<table border=\"1\" class=\"dataframe\">\n",
       "  <thead>\n",
       "    <tr style=\"text-align: right;\">\n",
       "      <th></th>\n",
       "      <th>Age</th>\n",
       "      <th>SibSp</th>\n",
       "      <th>Parch</th>\n",
       "      <th>Fare</th>\n",
       "      <th>scores</th>\n",
       "      <th>anomaly</th>\n",
       "    </tr>\n",
       "  </thead>\n",
       "  <tbody>\n",
       "    <tr>\n",
       "      <th>7</th>\n",
       "      <td>2.0</td>\n",
       "      <td>3</td>\n",
       "      <td>1</td>\n",
       "      <td>21.0750</td>\n",
       "      <td>-0.082522</td>\n",
       "      <td>-1</td>\n",
       "    </tr>\n",
       "    <tr>\n",
       "      <th>8</th>\n",
       "      <td>27.0</td>\n",
       "      <td>0</td>\n",
       "      <td>2</td>\n",
       "      <td>11.1333</td>\n",
       "      <td>-0.025150</td>\n",
       "      <td>-1</td>\n",
       "    </tr>\n",
       "    <tr>\n",
       "      <th>13</th>\n",
       "      <td>39.0</td>\n",
       "      <td>1</td>\n",
       "      <td>5</td>\n",
       "      <td>31.2750</td>\n",
       "      <td>-0.162676</td>\n",
       "      <td>-1</td>\n",
       "    </tr>\n",
       "    <tr>\n",
       "      <th>16</th>\n",
       "      <td>2.0</td>\n",
       "      <td>4</td>\n",
       "      <td>1</td>\n",
       "      <td>29.1250</td>\n",
       "      <td>-0.118068</td>\n",
       "      <td>-1</td>\n",
       "    </tr>\n",
       "    <tr>\n",
       "      <th>24</th>\n",
       "      <td>8.0</td>\n",
       "      <td>3</td>\n",
       "      <td>1</td>\n",
       "      <td>21.0750</td>\n",
       "      <td>-0.073668</td>\n",
       "      <td>-1</td>\n",
       "    </tr>\n",
       "    <tr>\n",
       "      <th>...</th>\n",
       "      <td>...</td>\n",
       "      <td>...</td>\n",
       "      <td>...</td>\n",
       "      <td>...</td>\n",
       "      <td>...</td>\n",
       "      <td>...</td>\n",
       "    </tr>\n",
       "    <tr>\n",
       "      <th>860</th>\n",
       "      <td>41.0</td>\n",
       "      <td>2</td>\n",
       "      <td>0</td>\n",
       "      <td>14.1083</td>\n",
       "      <td>-0.026378</td>\n",
       "      <td>-1</td>\n",
       "    </tr>\n",
       "    <tr>\n",
       "      <th>869</th>\n",
       "      <td>4.0</td>\n",
       "      <td>1</td>\n",
       "      <td>1</td>\n",
       "      <td>11.1333</td>\n",
       "      <td>-0.005933</td>\n",
       "      <td>-1</td>\n",
       "    </tr>\n",
       "    <tr>\n",
       "      <th>871</th>\n",
       "      <td>47.0</td>\n",
       "      <td>1</td>\n",
       "      <td>1</td>\n",
       "      <td>52.5542</td>\n",
       "      <td>-0.012427</td>\n",
       "      <td>-1</td>\n",
       "    </tr>\n",
       "    <tr>\n",
       "      <th>879</th>\n",
       "      <td>56.0</td>\n",
       "      <td>0</td>\n",
       "      <td>1</td>\n",
       "      <td>83.1583</td>\n",
       "      <td>-0.070716</td>\n",
       "      <td>-1</td>\n",
       "    </tr>\n",
       "    <tr>\n",
       "      <th>885</th>\n",
       "      <td>39.0</td>\n",
       "      <td>0</td>\n",
       "      <td>5</td>\n",
       "      <td>29.1250</td>\n",
       "      <td>-0.168941</td>\n",
       "      <td>-1</td>\n",
       "    </tr>\n",
       "  </tbody>\n",
       "</table>\n",
       "<p>188 rows × 6 columns</p>\n",
       "</div>"
      ],
      "text/plain": [
       "      Age  SibSp  Parch     Fare    scores  anomaly\n",
       "7     2.0      3      1  21.0750 -0.082522       -1\n",
       "8    27.0      0      2  11.1333 -0.025150       -1\n",
       "13   39.0      1      5  31.2750 -0.162676       -1\n",
       "16    2.0      4      1  29.1250 -0.118068       -1\n",
       "24    8.0      3      1  21.0750 -0.073668       -1\n",
       "..    ...    ...    ...      ...       ...      ...\n",
       "860  41.0      2      0  14.1083 -0.026378       -1\n",
       "869   4.0      1      1  11.1333 -0.005933       -1\n",
       "871  47.0      1      1  52.5542 -0.012427       -1\n",
       "879  56.0      0      1  83.1583 -0.070716       -1\n",
       "885  39.0      0      5  29.1250 -0.168941       -1\n",
       "\n",
       "[188 rows x 6 columns]"
      ]
     },
     "execution_count": 30,
     "metadata": {},
     "output_type": "execute_result"
    }
   ],
   "source": [
    "from sklearn.ensemble import IsolationForest\n",
    "\n",
    "## We'll do a simple drop null for now\n",
    "#\n",
    "df = df_num.copy()\n",
    "df = df.dropna()\n",
    "\n",
    "## Create a training-test set\n",
    "X = df.copy()\n",
    "\n",
    "X_train = X[:int(0.8 * len(df_num))]\n",
    "X_test = X[int(0.8 * len(df_num)):]\n",
    "\n",
    "## Fit Model\n",
    "clf = IsolationForest(n_estimators=50, max_samples=100)\n",
    "clf.fit(X)\n",
    "\n",
    "## Get Scores\n",
    "df['scores'] = clf.decision_function(X)\n",
    "\n",
    "\n",
    "df['anomaly'] = clf.predict(X)\n",
    "\n",
    "\n",
    "## Get Anomalies\n",
    "outliers=df.loc[df['anomaly']==-1]\n",
    "\n",
    "outliers"
   ]
  },
  {
   "cell_type": "markdown",
   "id": "e69467cf",
   "metadata": {
    "papermill": {
     "duration": 0.027114,
     "end_time": "2024-02-24T22:50:07.266836",
     "exception": false,
     "start_time": "2024-02-24T22:50:07.239722",
     "status": "completed"
    },
    "tags": []
   },
   "source": [
    "## Outliers Treatment"
   ]
  },
  {
   "cell_type": "markdown",
   "id": "bde752f8",
   "metadata": {
    "papermill": {
     "duration": 0.027152,
     "end_time": "2024-02-24T22:50:07.323757",
     "exception": false,
     "start_time": "2024-02-24T22:50:07.296605",
     "status": "completed"
    },
    "tags": []
   },
   "source": [
    "### Removal"
   ]
  },
  {
   "cell_type": "code",
   "execution_count": 31,
   "id": "692453fd",
   "metadata": {
    "execution": {
     "iopub.execute_input": "2024-02-24T22:50:07.381459Z",
     "iopub.status.busy": "2024-02-24T22:50:07.380969Z",
     "iopub.status.idle": "2024-02-24T22:50:07.404693Z",
     "shell.execute_reply": "2024-02-24T22:50:07.403622Z"
    },
    "papermill": {
     "duration": 0.056295,
     "end_time": "2024-02-24T22:50:07.407222",
     "exception": false,
     "start_time": "2024-02-24T22:50:07.350927",
     "status": "completed"
    },
    "tags": []
   },
   "outputs": [],
   "source": [
    "def z_score_removal(df, column, lower_z_score, upper_z_score):\n",
    "    \n",
    "    col_df = df[column]\n",
    "\n",
    "    z_scores = scipy.stats.zscore(col_df)\n",
    "    outliers = (z_scores > upper_z_score) | (z_scores < lower_z_score)\n",
    "    return df[~outliers]\n",
    "\n",
    "def percentile_removal(df, column, lower_bound_perc, upper_bound_perc):\n",
    "    \n",
    "    col_df = df[column]\n",
    "    \n",
    "    upper_bound = np.percentile(col_df, upper_bound_perc)\n",
    "    lower_bound = np.percentile(col_df, lower_bound_perc)\n",
    "\n",
    "    z_scores = scipy.stats.zscore(col_df)\n",
    "    outliers = (z_scores > upper_bound) | (z_scores < lower_bound)\n",
    "    return df[~outliers]\n",
    "\n",
    "filtered_df_z = z_score_removal(train_data, 'Age', -1.96, 1.96)\n",
    "filtered_df_per = percentile_removal(train_data, 'Age', lower_bound_perc = 1, upper_bound_perc = 99)"
   ]
  },
  {
   "cell_type": "markdown",
   "id": "58f3bc4c",
   "metadata": {
    "papermill": {
     "duration": 0.028451,
     "end_time": "2024-02-24T22:50:07.465109",
     "exception": false,
     "start_time": "2024-02-24T22:50:07.436658",
     "status": "completed"
    },
    "tags": []
   },
   "source": [
    "### Winsorize"
   ]
  },
  {
   "cell_type": "code",
   "execution_count": 32,
   "id": "bd05eed6",
   "metadata": {
    "execution": {
     "iopub.execute_input": "2024-02-24T22:50:07.521287Z",
     "iopub.status.busy": "2024-02-24T22:50:07.520897Z",
     "iopub.status.idle": "2024-02-24T22:50:07.528279Z",
     "shell.execute_reply": "2024-02-24T22:50:07.526379Z"
    },
    "papermill": {
     "duration": 0.041011,
     "end_time": "2024-02-24T22:50:07.531381",
     "exception": false,
     "start_time": "2024-02-24T22:50:07.490370",
     "status": "completed"
    },
    "tags": []
   },
   "outputs": [],
   "source": [
    "def winsorize(df, column, upper, lower):\n",
    "    col_df = df[column]\n",
    "    \n",
    "    perc_upper = np.percentile(df[column],upper)\n",
    "    perc_lower = np.percentile(df[column],lower)\n",
    "    \n",
    "    df[column] = np.where(df[column] >= perc_upper, \n",
    "                          perc_upper, \n",
    "                          df[column])\n",
    "    \n",
    "    df[column] = np.where(df[column] <= perc_lower, \n",
    "                          perc_lower, \n",
    "                          df[column])\n",
    "    \n",
    "    return df"
   ]
  },
  {
   "cell_type": "code",
   "execution_count": 33,
   "id": "271db246",
   "metadata": {
    "execution": {
     "iopub.execute_input": "2024-02-24T22:50:07.587544Z",
     "iopub.status.busy": "2024-02-24T22:50:07.587124Z",
     "iopub.status.idle": "2024-02-24T22:50:07.593407Z",
     "shell.execute_reply": "2024-02-24T22:50:07.592400Z"
    },
    "papermill": {
     "duration": 0.036953,
     "end_time": "2024-02-24T22:50:07.595752",
     "exception": false,
     "start_time": "2024-02-24T22:50:07.558799",
     "status": "completed"
    },
    "tags": []
   },
   "outputs": [],
   "source": [
    "winsorized_data = winsorize(train_data, 'Age', 99, 1)"
   ]
  },
  {
   "cell_type": "markdown",
   "id": "9ddd55bd",
   "metadata": {
    "papermill": {
     "duration": 0.026952,
     "end_time": "2024-02-24T22:50:07.648520",
     "exception": false,
     "start_time": "2024-02-24T22:50:07.621568",
     "status": "completed"
    },
    "tags": []
   },
   "source": [
    "# **Feature Engineer**"
   ]
  },
  {
   "cell_type": "code",
   "execution_count": 34,
   "id": "e3605e0b",
   "metadata": {
    "_cell_guid": "3d60d176-86ae-4486-a3e8-0a09ac38b8e7",
    "_uuid": "e1d9dcc9-9817-4fc2-afb2-71348217eef5",
    "collapsed": false,
    "execution": {
     "iopub.execute_input": "2024-02-24T22:50:07.704769Z",
     "iopub.status.busy": "2024-02-24T22:50:07.704317Z",
     "iopub.status.idle": "2024-02-24T22:50:07.720343Z",
     "shell.execute_reply": "2024-02-24T22:50:07.718634Z"
    },
    "jupyter": {
     "outputs_hidden": false
    },
    "papermill": {
     "duration": 0.048404,
     "end_time": "2024-02-24T22:50:07.723533",
     "exception": false,
     "start_time": "2024-02-24T22:50:07.675129",
     "status": "completed"
    },
    "tags": []
   },
   "outputs": [
    {
     "data": {
      "text/plain": [
       "cabin_multiple\n",
       "0    327\n",
       "1     74\n",
       "2     10\n",
       "3      4\n",
       "4      3\n",
       "Name: count, dtype: int64"
      ]
     },
     "execution_count": 34,
     "metadata": {},
     "output_type": "execute_result"
    }
   ],
   "source": [
    "train_data['cabin_multiple'] = train_data.Cabin.apply(lambda x: 0 if pd.isna(x) else len(x.split(' ')))\n",
    "# after looking at this, we may want to look at cabin by letter or by number. Let's create some categories for this \n",
    "# letters \n",
    "# multiple letters \n",
    "train_data['cabin_multiple'].value_counts()\n",
    "\n",
    "test_data['cabin_multiple'] = test_data.Cabin.apply(lambda x: 0 if pd.isna(x) else len(x.split(' ')))\n",
    "# after looking at this, we may want to look at cabin by letter or by number. Let's create some categories for this \n",
    "# letters \n",
    "# multiple letters \n",
    "test_data['cabin_multiple'].value_counts()"
   ]
  },
  {
   "cell_type": "code",
   "execution_count": 35,
   "id": "86d75cb3",
   "metadata": {
    "_cell_guid": "8c9afc57-d8b6-47b1-b318-faf017fb6d06",
    "_uuid": "3fbf886f-8817-41da-bb9a-3272239851e7",
    "collapsed": false,
    "execution": {
     "iopub.execute_input": "2024-02-24T22:50:07.783237Z",
     "iopub.status.busy": "2024-02-24T22:50:07.781880Z",
     "iopub.status.idle": "2024-02-24T22:50:07.802889Z",
     "shell.execute_reply": "2024-02-24T22:50:07.801215Z"
    },
    "jupyter": {
     "outputs_hidden": false
    },
    "papermill": {
     "duration": 0.052394,
     "end_time": "2024-02-24T22:50:07.805964",
     "exception": false,
     "start_time": "2024-02-24T22:50:07.753570",
     "status": "completed"
    },
    "tags": []
   },
   "outputs": [
    {
     "data": {
      "text/html": [
       "<div>\n",
       "<style scoped>\n",
       "    .dataframe tbody tr th:only-of-type {\n",
       "        vertical-align: middle;\n",
       "    }\n",
       "\n",
       "    .dataframe tbody tr th {\n",
       "        vertical-align: top;\n",
       "    }\n",
       "\n",
       "    .dataframe thead th {\n",
       "        text-align: right;\n",
       "    }\n",
       "</style>\n",
       "<table border=\"1\" class=\"dataframe\">\n",
       "  <thead>\n",
       "    <tr style=\"text-align: right;\">\n",
       "      <th>cabin_multiple</th>\n",
       "      <th>0</th>\n",
       "      <th>1</th>\n",
       "      <th>2</th>\n",
       "      <th>3</th>\n",
       "      <th>4</th>\n",
       "    </tr>\n",
       "    <tr>\n",
       "      <th>Survived</th>\n",
       "      <th></th>\n",
       "      <th></th>\n",
       "      <th></th>\n",
       "      <th></th>\n",
       "      <th></th>\n",
       "    </tr>\n",
       "  </thead>\n",
       "  <tbody>\n",
       "    <tr>\n",
       "      <th>0</th>\n",
       "      <td>481.0</td>\n",
       "      <td>58.0</td>\n",
       "      <td>7.0</td>\n",
       "      <td>3.0</td>\n",
       "      <td>NaN</td>\n",
       "    </tr>\n",
       "    <tr>\n",
       "      <th>1</th>\n",
       "      <td>206.0</td>\n",
       "      <td>120.0</td>\n",
       "      <td>9.0</td>\n",
       "      <td>3.0</td>\n",
       "      <td>2.0</td>\n",
       "    </tr>\n",
       "  </tbody>\n",
       "</table>\n",
       "</div>"
      ],
      "text/plain": [
       "cabin_multiple      0      1    2    3    4\n",
       "Survived                                   \n",
       "0               481.0   58.0  7.0  3.0  NaN\n",
       "1               206.0  120.0  9.0  3.0  2.0"
      ]
     },
     "execution_count": 35,
     "metadata": {},
     "output_type": "execute_result"
    }
   ],
   "source": [
    "pd.pivot_table(train_data, index = 'Survived', columns = 'cabin_multiple', values = 'Ticket' ,aggfunc ='count')"
   ]
  },
  {
   "cell_type": "code",
   "execution_count": 36,
   "id": "b6aa38fb",
   "metadata": {
    "_cell_guid": "5db95b25-4207-4928-9946-f29b75c60328",
    "_uuid": "35bd54da-4620-48f7-8248-14628fd96f6a",
    "collapsed": false,
    "execution": {
     "iopub.execute_input": "2024-02-24T22:50:07.861173Z",
     "iopub.status.busy": "2024-02-24T22:50:07.860725Z",
     "iopub.status.idle": "2024-02-24T22:50:07.868676Z",
     "shell.execute_reply": "2024-02-24T22:50:07.867365Z"
    },
    "jupyter": {
     "outputs_hidden": false
    },
    "papermill": {
     "duration": 0.039084,
     "end_time": "2024-02-24T22:50:07.871340",
     "exception": false,
     "start_time": "2024-02-24T22:50:07.832256",
     "status": "completed"
    },
    "tags": []
   },
   "outputs": [],
   "source": [
    "train_data['cabin_adv'] = train_data.Cabin.apply(lambda x: str(x)[0])\n",
    "test_data['cabin_adv'] = test_data.Cabin.apply(lambda x: str(x)[0])"
   ]
  },
  {
   "cell_type": "code",
   "execution_count": 37,
   "id": "9812e6a6",
   "metadata": {
    "execution": {
     "iopub.execute_input": "2024-02-24T22:50:07.926686Z",
     "iopub.status.busy": "2024-02-24T22:50:07.924932Z",
     "iopub.status.idle": "2024-02-24T22:50:07.936110Z",
     "shell.execute_reply": "2024-02-24T22:50:07.934885Z"
    },
    "papermill": {
     "duration": 0.041823,
     "end_time": "2024-02-24T22:50:07.938705",
     "exception": false,
     "start_time": "2024-02-24T22:50:07.896882",
     "status": "completed"
    },
    "tags": []
   },
   "outputs": [
    {
     "data": {
      "text/plain": [
       "cabin_adv\n",
       "n    687\n",
       "C     59\n",
       "B     45\n",
       "D     33\n",
       "E     32\n",
       "A     15\n",
       "F     13\n",
       "G      4\n",
       "T      1\n",
       "Name: count, dtype: int64"
      ]
     },
     "execution_count": 37,
     "metadata": {},
     "output_type": "execute_result"
    }
   ],
   "source": [
    "#comparing surivial rate by cabin\n",
    "train_data.cabin_adv.value_counts()"
   ]
  },
  {
   "cell_type": "code",
   "execution_count": 38,
   "id": "6f9db264",
   "metadata": {
    "execution": {
     "iopub.execute_input": "2024-02-24T22:50:07.998009Z",
     "iopub.status.busy": "2024-02-24T22:50:07.996313Z",
     "iopub.status.idle": "2024-02-24T22:50:08.022142Z",
     "shell.execute_reply": "2024-02-24T22:50:08.020909Z"
    },
    "papermill": {
     "duration": 0.0585,
     "end_time": "2024-02-24T22:50:08.024649",
     "exception": false,
     "start_time": "2024-02-24T22:50:07.966149",
     "status": "completed"
    },
    "tags": []
   },
   "outputs": [
    {
     "data": {
      "text/html": [
       "<div>\n",
       "<style scoped>\n",
       "    .dataframe tbody tr th:only-of-type {\n",
       "        vertical-align: middle;\n",
       "    }\n",
       "\n",
       "    .dataframe tbody tr th {\n",
       "        vertical-align: top;\n",
       "    }\n",
       "\n",
       "    .dataframe thead th {\n",
       "        text-align: right;\n",
       "    }\n",
       "</style>\n",
       "<table border=\"1\" class=\"dataframe\">\n",
       "  <thead>\n",
       "    <tr style=\"text-align: right;\">\n",
       "      <th>cabin_adv</th>\n",
       "      <th>A</th>\n",
       "      <th>B</th>\n",
       "      <th>C</th>\n",
       "      <th>D</th>\n",
       "      <th>E</th>\n",
       "      <th>F</th>\n",
       "      <th>G</th>\n",
       "      <th>T</th>\n",
       "      <th>n</th>\n",
       "    </tr>\n",
       "    <tr>\n",
       "      <th>Survived</th>\n",
       "      <th></th>\n",
       "      <th></th>\n",
       "      <th></th>\n",
       "      <th></th>\n",
       "      <th></th>\n",
       "      <th></th>\n",
       "      <th></th>\n",
       "      <th></th>\n",
       "      <th></th>\n",
       "    </tr>\n",
       "  </thead>\n",
       "  <tbody>\n",
       "    <tr>\n",
       "      <th>0</th>\n",
       "      <td>8.0</td>\n",
       "      <td>12.0</td>\n",
       "      <td>24.0</td>\n",
       "      <td>8.0</td>\n",
       "      <td>8.0</td>\n",
       "      <td>5.0</td>\n",
       "      <td>2.0</td>\n",
       "      <td>1.0</td>\n",
       "      <td>481.0</td>\n",
       "    </tr>\n",
       "    <tr>\n",
       "      <th>1</th>\n",
       "      <td>7.0</td>\n",
       "      <td>33.0</td>\n",
       "      <td>35.0</td>\n",
       "      <td>25.0</td>\n",
       "      <td>24.0</td>\n",
       "      <td>8.0</td>\n",
       "      <td>2.0</td>\n",
       "      <td>NaN</td>\n",
       "      <td>206.0</td>\n",
       "    </tr>\n",
       "  </tbody>\n",
       "</table>\n",
       "</div>"
      ],
      "text/plain": [
       "cabin_adv    A     B     C     D     E    F    G    T      n\n",
       "Survived                                                    \n",
       "0          8.0  12.0  24.0   8.0   8.0  5.0  2.0  1.0  481.0\n",
       "1          7.0  33.0  35.0  25.0  24.0  8.0  2.0  NaN  206.0"
      ]
     },
     "execution_count": 38,
     "metadata": {},
     "output_type": "execute_result"
    }
   ],
   "source": [
    "pd.pivot_table(train_data,index='Survived',columns='cabin_adv', values = 'Name', aggfunc='count')"
   ]
  },
  {
   "cell_type": "markdown",
   "id": "da76a3ee",
   "metadata": {
    "papermill": {
     "duration": 0.027876,
     "end_time": "2024-02-24T22:50:08.078401",
     "exception": false,
     "start_time": "2024-02-24T22:50:08.050525",
     "status": "completed"
    },
    "tags": []
   },
   "source": [
    "## Frequency Encoder"
   ]
  },
  {
   "cell_type": "code",
   "execution_count": 39,
   "id": "50d59fcb",
   "metadata": {
    "execution": {
     "iopub.execute_input": "2024-02-24T22:50:08.137994Z",
     "iopub.status.busy": "2024-02-24T22:50:08.137213Z",
     "iopub.status.idle": "2024-02-24T22:50:08.149218Z",
     "shell.execute_reply": "2024-02-24T22:50:08.147531Z"
    },
    "papermill": {
     "duration": 0.043935,
     "end_time": "2024-02-24T22:50:08.152006",
     "exception": false,
     "start_time": "2024-02-24T22:50:08.108071",
     "status": "completed"
    },
    "tags": []
   },
   "outputs": [
    {
     "data": {
      "text/plain": [
       "\"\\n\\nfe = FrequencyEncoder()\\nfe.fit(X_train, column = 'neighbourhood')\\n\\n# Transform Datasets\\nX_train_freq_enc = fe.transform(X_train, column='neighbourhood')\\nX_test_freq_enc = fe.transform(X_test, column='neighbourhood')\\n\\nX_test_freq_enc['neighbourhood_freq']\\n\\n\""
      ]
     },
     "execution_count": 39,
     "metadata": {},
     "output_type": "execute_result"
    }
   ],
   "source": [
    "class FrequencyEncoder:\n",
    "    def fit(self, train_df, column):\n",
    "        self.train_df = train_df\n",
    "        self.column = column\n",
    "        self.frequency_encodings = None\n",
    "        \n",
    "    def _compute_frequency(self):\n",
    "        self.frequency_encodings = self.train_df.groupby([self.column]).size()\n",
    "        \n",
    "    def transform(self, test_df, column, fillna = True):\n",
    "        self._compute_frequency()\n",
    "        \n",
    "        col_name = column + '_freq'\n",
    "        test_df[col_name] = test_df[column].map(self.frequency_encodings)\n",
    "        \n",
    "        if fillna is True:\n",
    "            test_df[col_name] = test_df[col_name].fillna(0)\n",
    "        \n",
    "        return test_df\n",
    "    \n",
    "\"\"\"\n",
    "\n",
    "fe = FrequencyEncoder()\n",
    "fe.fit(X_train, column = 'neighbourhood')\n",
    "\n",
    "# Transform Datasets\n",
    "X_train_freq_enc = fe.transform(X_train, column='neighbourhood')\n",
    "X_test_freq_enc = fe.transform(X_test, column='neighbourhood')\n",
    "\n",
    "X_test_freq_enc['neighbourhood_freq']\n",
    "\n",
    "\"\"\""
   ]
  },
  {
   "cell_type": "markdown",
   "id": "1fd59231",
   "metadata": {
    "papermill": {
     "duration": 0.027917,
     "end_time": "2024-02-24T22:50:08.208549",
     "exception": false,
     "start_time": "2024-02-24T22:50:08.180632",
     "status": "completed"
    },
    "tags": []
   },
   "source": [
    "## Target Enconder"
   ]
  },
  {
   "cell_type": "code",
   "execution_count": 40,
   "id": "6c629af6",
   "metadata": {
    "execution": {
     "iopub.execute_input": "2024-02-24T22:50:08.264064Z",
     "iopub.status.busy": "2024-02-24T22:50:08.263024Z",
     "iopub.status.idle": "2024-02-24T22:50:08.275998Z",
     "shell.execute_reply": "2024-02-24T22:50:08.274587Z"
    },
    "papermill": {
     "duration": 0.044603,
     "end_time": "2024-02-24T22:50:08.278937",
     "exception": false,
     "start_time": "2024-02-24T22:50:08.234334",
     "status": "completed"
    },
    "tags": []
   },
   "outputs": [
    {
     "data": {
      "text/plain": [
       "\"\\ndf_train, df_test = train_test_split(df, test_size = 0.33, random_state = 42)\\n\\nte = TargetEncoder()\\nte.fit(df_train, target_col = 'price', categ_col = 'neighbourhood')\\n\\nX_train_te = te.transform(df_train)\\nX_test_te = te.transform(df_test)\\n\\nX_test_te\\n\""
      ]
     },
     "execution_count": 40,
     "metadata": {},
     "output_type": "execute_result"
    }
   ],
   "source": [
    "df_te = train_data.copy()\n",
    "from sklearn.model_selection import train_test_split\n",
    "\n",
    "class TargetEncoder:\n",
    "    def fit(self, train_df, target_col, categ_col):\n",
    "        self.train_df = train_df\n",
    "        self.target_col = target_col\n",
    "        self.categ_col = categ_col\n",
    "        self.target_encodings = None\n",
    "        \n",
    "    def transform(self, test_df, column = None, fillna = True):\n",
    "        if column is None:\n",
    "            column = self.categ_col\n",
    "        \n",
    "        self.target_encodings = self.train_df.groupby([self.categ_col]).mean()[self.target_col]\n",
    "\n",
    "        col_name = column + '_target_enc'\n",
    "        test_df.loc[:,col_name] = test_df[column].map(self.target_encodings)\n",
    "        \n",
    "        if fillna is True:\n",
    "            test_df[col_name] = test_df[col_name].fillna(0)\n",
    "            \n",
    "        return test_df\n",
    "\n",
    "\"\"\"\n",
    "df_train, df_test = train_test_split(df, test_size = 0.33, random_state = 42)\n",
    "\n",
    "te = TargetEncoder()\n",
    "te.fit(df_train, target_col = 'price', categ_col = 'neighbourhood')\n",
    "\n",
    "X_train_te = te.transform(df_train)\n",
    "X_test_te = te.transform(df_test)\n",
    "\n",
    "X_test_te\n",
    "\"\"\""
   ]
  },
  {
   "cell_type": "code",
   "execution_count": 41,
   "id": "b52558c6",
   "metadata": {
    "execution": {
     "iopub.execute_input": "2024-02-24T22:50:08.335069Z",
     "iopub.status.busy": "2024-02-24T22:50:08.334538Z",
     "iopub.status.idle": "2024-02-24T22:50:08.391247Z",
     "shell.execute_reply": "2024-02-24T22:50:08.389989Z"
    },
    "papermill": {
     "duration": 0.088385,
     "end_time": "2024-02-24T22:50:08.393684",
     "exception": false,
     "start_time": "2024-02-24T22:50:08.305299",
     "status": "completed"
    },
    "tags": []
   },
   "outputs": [
    {
     "data": {
      "text/plain": [
       "(889,)"
      ]
     },
     "execution_count": 41,
     "metadata": {},
     "output_type": "execute_result"
    }
   ],
   "source": [
    "training = pd.read_csv('/kaggle/input/titanic/train.csv')\n",
    "test = pd.read_csv('/kaggle/input/titanic/test.csv')\n",
    "\n",
    "training['train_test'] = 1\n",
    "test['train_test'] = 0\n",
    "test['Survived'] = np.NaN\n",
    "all_data = pd.concat([training,test])\n",
    "\n",
    "#create all categorical variables that we did above for both training and test sets \n",
    "all_data['cabin_multiple'] = all_data.Cabin.apply(lambda x: 0 if pd.isna(x) else len(x.split(' ')))\n",
    "all_data['cabin_adv'] = all_data.Cabin.apply(lambda x: str(x)[0])\n",
    "all_data['numeric_ticket'] = all_data.Ticket.apply(lambda x: 1 if x.isnumeric() else 0)\n",
    "all_data['ticket_letters'] = all_data.Ticket.apply(lambda x: ''.join(x.split(' ')[:-1]).replace('.','').replace('/','').lower() if len(x.split(' ')[:-1]) >0 else 0)\n",
    "all_data['name_title'] = all_data.Name.apply(lambda x: x.split(',')[1].split('.')[0].strip())\n",
    "\n",
    "#impute nulls for continuous data \n",
    "#all_data.Age = all_data.Age.fillna(training.Age.mean())\n",
    "all_data.Age = all_data.Age.fillna(training.Age.median())\n",
    "#all_data.Fare = all_data.Fare.fillna(training.Fare.mean())\n",
    "all_data.Fare = all_data.Fare.fillna(training.Fare.median())\n",
    "\n",
    "#drop null 'embarked' rows. Only 2 instances of this in training and 0 in test \n",
    "all_data.dropna(subset=['Embarked'],inplace = True)\n",
    "\n",
    "#tried log norm of sibsp (not used)\n",
    "all_data['norm_sibsp'] = np.log(all_data.SibSp+1)\n",
    "\n",
    "# log norm of fare (used)\n",
    "all_data['norm_fare'] = np.log(all_data.Fare+1)\n",
    "\n",
    "# converted fare to category for pd.get_dummies()\n",
    "all_data.Pclass = all_data.Pclass.astype(str)\n",
    "\n",
    "#created dummy variables from categories (also can use OneHotEncoder)\n",
    "all_dummies = pd.get_dummies(all_data[['Pclass','Sex','Age','SibSp','Parch','norm_fare','Embarked','cabin_adv','cabin_multiple','numeric_ticket','name_title','train_test']])\n",
    "\n",
    "#Split to train test again\n",
    "X_train = all_dummies[all_dummies.train_test == 1].drop(['train_test'], axis =1)\n",
    "X_test = all_dummies[all_dummies.train_test == 0].drop(['train_test'], axis =1)\n",
    "\n",
    "\n",
    "y_train = all_data[all_data.train_test==1].Survived\n",
    "y_train.shape\n"
   ]
  },
  {
   "cell_type": "code",
   "execution_count": 42,
   "id": "37a4f5f9",
   "metadata": {
    "execution": {
     "iopub.execute_input": "2024-02-24T22:50:08.451378Z",
     "iopub.status.busy": "2024-02-24T22:50:08.450070Z",
     "iopub.status.idle": "2024-02-24T22:50:08.471197Z",
     "shell.execute_reply": "2024-02-24T22:50:08.470146Z"
    },
    "papermill": {
     "duration": 0.054089,
     "end_time": "2024-02-24T22:50:08.473803",
     "exception": false,
     "start_time": "2024-02-24T22:50:08.419714",
     "status": "completed"
    },
    "tags": []
   },
   "outputs": [],
   "source": [
    "# Scale data \n",
    "from sklearn.preprocessing import StandardScaler\n",
    "scale = StandardScaler()\n",
    "all_dummies_scaled = all_dummies.copy()\n",
    "all_dummies_scaled[['Age','SibSp','Parch','norm_fare']]= scale.fit_transform(all_dummies_scaled[['Age','SibSp','Parch','norm_fare']])\n",
    "all_dummies_scaled\n",
    "\n",
    "X_train_scaled = all_dummies_scaled[all_dummies_scaled.train_test == 1].drop(['train_test'], axis =1)\n",
    "X_test_scaled = all_dummies_scaled[all_dummies_scaled.train_test == 0].drop(['train_test'], axis =1)\n",
    "\n",
    "X_train_scaled = np.asarray(X_train_scaled).astype(np.float32)\n",
    "X_test_scaled = np.asarray(X_test_scaled).astype(np.float32)\n",
    "\n",
    "\n",
    "y_train = all_data[all_data.train_test==1].Survived"
   ]
  },
  {
   "cell_type": "code",
   "execution_count": 43,
   "id": "e0ee9c1c",
   "metadata": {
    "execution": {
     "iopub.execute_input": "2024-02-24T22:50:08.532249Z",
     "iopub.status.busy": "2024-02-24T22:50:08.531838Z",
     "iopub.status.idle": "2024-02-24T22:50:26.406321Z",
     "shell.execute_reply": "2024-02-24T22:50:26.405060Z"
    },
    "papermill": {
     "duration": 17.908151,
     "end_time": "2024-02-24T22:50:26.410183",
     "exception": false,
     "start_time": "2024-02-24T22:50:08.502032",
     "status": "completed"
    },
    "tags": []
   },
   "outputs": [
    {
     "name": "stderr",
     "output_type": "stream",
     "text": [
      "2024-02-24 22:50:11.698499: E external/local_xla/xla/stream_executor/cuda/cuda_dnn.cc:9261] Unable to register cuDNN factory: Attempting to register factory for plugin cuDNN when one has already been registered\n",
      "2024-02-24 22:50:11.698768: E external/local_xla/xla/stream_executor/cuda/cuda_fft.cc:607] Unable to register cuFFT factory: Attempting to register factory for plugin cuFFT when one has already been registered\n",
      "2024-02-24 22:50:11.908765: E external/local_xla/xla/stream_executor/cuda/cuda_blas.cc:1515] Unable to register cuBLAS factory: Attempting to register factory for plugin cuBLAS when one has already been registered\n"
     ]
    }
   ],
   "source": [
    "import tensorflow as tf\n",
    "from tensorflow.keras import datasets, layers, models"
   ]
  },
  {
   "cell_type": "code",
   "execution_count": 44,
   "id": "3baeb55b",
   "metadata": {
    "execution": {
     "iopub.execute_input": "2024-02-24T22:50:26.467883Z",
     "iopub.status.busy": "2024-02-24T22:50:26.466546Z",
     "iopub.status.idle": "2024-02-24T22:50:26.632050Z",
     "shell.execute_reply": "2024-02-24T22:50:26.630828Z"
    },
    "papermill": {
     "duration": 0.202887,
     "end_time": "2024-02-24T22:50:26.641146",
     "exception": false,
     "start_time": "2024-02-24T22:50:26.438259",
     "status": "completed"
    },
    "tags": []
   },
   "outputs": [
    {
     "name": "stdout",
     "output_type": "stream",
     "text": [
      "Model: \"sequential\"\n",
      "_________________________________________________________________\n",
      " Layer (type)                Output Shape              Param #   \n",
      "=================================================================\n",
      " dense (Dense)               (None, 30)                1260      \n",
      "                                                                 \n",
      " dense_1 (Dense)             (None, 20)                620       \n",
      "                                                                 \n",
      " dense_2 (Dense)             (None, 1)                 21        \n",
      "                                                                 \n",
      "=================================================================\n",
      "Total params: 1901 (7.43 KB)\n",
      "Trainable params: 1901 (7.43 KB)\n",
      "Non-trainable params: 0 (0.00 Byte)\n",
      "_________________________________________________________________\n"
     ]
    }
   ],
   "source": [
    "model = tf.keras.Sequential([\n",
    "    tf.keras.layers.Dense(30, input_shape=(41,), activation='relu'),\n",
    "    tf.keras.layers.Dense(20, activation='relu'),\n",
    "    tf.keras.layers.Dense(1, activation='softmax')\n",
    "])\n",
    "\n",
    "\n",
    "model.summary()"
   ]
  },
  {
   "cell_type": "code",
   "execution_count": 45,
   "id": "575d5ab3",
   "metadata": {
    "execution": {
     "iopub.execute_input": "2024-02-24T22:50:26.699173Z",
     "iopub.status.busy": "2024-02-24T22:50:26.698815Z",
     "iopub.status.idle": "2024-02-24T22:50:26.722844Z",
     "shell.execute_reply": "2024-02-24T22:50:26.721672Z"
    },
    "papermill": {
     "duration": 0.055414,
     "end_time": "2024-02-24T22:50:26.725605",
     "exception": false,
     "start_time": "2024-02-24T22:50:26.670191",
     "status": "completed"
    },
    "tags": []
   },
   "outputs": [],
   "source": [
    "model.compile(\n",
    "    optimizer=tf.keras.optimizers.Adam(learning_rate=0.1),\n",
    "    loss='binary_crossentropy', \n",
    "    metrics=['accuracy'])"
   ]
  },
  {
   "cell_type": "code",
   "execution_count": null,
   "id": "58bd7f21",
   "metadata": {
    "execution": {
     "iopub.execute_input": "2024-02-24T21:47:25.590953Z",
     "iopub.status.busy": "2024-02-24T21:47:25.590533Z",
     "iopub.status.idle": "2024-02-24T21:47:25.597030Z",
     "shell.execute_reply": "2024-02-24T21:47:25.595904Z",
     "shell.execute_reply.started": "2024-02-24T21:47:25.590923Z"
    },
    "papermill": {
     "duration": 0.027984,
     "end_time": "2024-02-24T22:50:26.781268",
     "exception": false,
     "start_time": "2024-02-24T22:50:26.753284",
     "status": "completed"
    },
    "tags": []
   },
   "outputs": [],
   "source": []
  },
  {
   "cell_type": "code",
   "execution_count": null,
   "id": "e2b99d5d",
   "metadata": {
    "execution": {
     "iopub.execute_input": "2024-02-24T21:39:03.024136Z",
     "iopub.status.busy": "2024-02-24T21:39:03.023744Z",
     "iopub.status.idle": "2024-02-24T21:39:03.035107Z",
     "shell.execute_reply": "2024-02-24T21:39:03.033525Z",
     "shell.execute_reply.started": "2024-02-24T21:39:03.024106Z"
    },
    "papermill": {
     "duration": 0.027383,
     "end_time": "2024-02-24T22:50:26.837529",
     "exception": false,
     "start_time": "2024-02-24T22:50:26.810146",
     "status": "completed"
    },
    "tags": []
   },
   "outputs": [],
   "source": []
  },
  {
   "cell_type": "code",
   "execution_count": 46,
   "id": "02b90ffe",
   "metadata": {
    "execution": {
     "iopub.execute_input": "2024-02-24T22:50:26.897386Z",
     "iopub.status.busy": "2024-02-24T22:50:26.896950Z",
     "iopub.status.idle": "2024-02-24T22:50:48.864747Z",
     "shell.execute_reply": "2024-02-24T22:50:48.863357Z"
    },
    "papermill": {
     "duration": 21.999947,
     "end_time": "2024-02-24T22:50:48.867559",
     "exception": false,
     "start_time": "2024-02-24T22:50:26.867612",
     "status": "completed"
    },
    "tags": []
   },
   "outputs": [
    {
     "name": "stdout",
     "output_type": "stream",
     "text": [
      "Epoch 1/100\n",
      "23/23 [==============================] - 2s 15ms/step - loss: 0.5671 - accuracy: 0.3896 - val_loss: 0.3799 - val_accuracy: 0.3539\n",
      "Epoch 2/100\n",
      "23/23 [==============================] - 0s 5ms/step - loss: 0.4394 - accuracy: 0.3896 - val_loss: 0.3455 - val_accuracy: 0.3539\n",
      "Epoch 3/100\n",
      "23/23 [==============================] - 0s 5ms/step - loss: 0.4646 - accuracy: 0.3896 - val_loss: 0.3274 - val_accuracy: 0.3539\n",
      "Epoch 4/100\n",
      "23/23 [==============================] - 0s 6ms/step - loss: 0.4196 - accuracy: 0.3896 - val_loss: 0.3579 - val_accuracy: 0.3539\n",
      "Epoch 5/100\n",
      "23/23 [==============================] - 0s 5ms/step - loss: 0.4287 - accuracy: 0.3896 - val_loss: 0.3992 - val_accuracy: 0.3539\n",
      "Epoch 6/100\n",
      "23/23 [==============================] - 0s 5ms/step - loss: 0.4032 - accuracy: 0.3896 - val_loss: 0.3248 - val_accuracy: 0.3539\n",
      "Epoch 7/100\n",
      "23/23 [==============================] - 0s 5ms/step - loss: 0.3937 - accuracy: 0.3896 - val_loss: 0.3280 - val_accuracy: 0.3539\n",
      "Epoch 8/100\n",
      "23/23 [==============================] - 0s 5ms/step - loss: 0.4023 - accuracy: 0.3896 - val_loss: 0.3622 - val_accuracy: 0.3539\n",
      "Epoch 9/100\n",
      "23/23 [==============================] - 0s 5ms/step - loss: 0.4248 - accuracy: 0.3896 - val_loss: 0.3700 - val_accuracy: 0.3539\n",
      "Epoch 10/100\n",
      "23/23 [==============================] - 0s 5ms/step - loss: 0.4045 - accuracy: 0.3896 - val_loss: 0.4082 - val_accuracy: 0.3539\n",
      "Epoch 11/100\n",
      "23/23 [==============================] - 0s 5ms/step - loss: 0.3991 - accuracy: 0.3896 - val_loss: 0.3482 - val_accuracy: 0.3539\n",
      "Epoch 12/100\n",
      "23/23 [==============================] - 0s 5ms/step - loss: 0.4089 - accuracy: 0.3896 - val_loss: 0.3601 - val_accuracy: 0.3539\n",
      "Epoch 13/100\n",
      "23/23 [==============================] - 0s 5ms/step - loss: 0.3794 - accuracy: 0.3896 - val_loss: 0.4008 - val_accuracy: 0.3539\n",
      "Epoch 14/100\n",
      "23/23 [==============================] - 0s 4ms/step - loss: 0.3755 - accuracy: 0.3896 - val_loss: 0.4515 - val_accuracy: 0.3539\n",
      "Epoch 15/100\n",
      "23/23 [==============================] - 0s 5ms/step - loss: 0.3812 - accuracy: 0.3896 - val_loss: 0.5211 - val_accuracy: 0.3539\n",
      "Epoch 16/100\n",
      "23/23 [==============================] - 0s 5ms/step - loss: 0.4131 - accuracy: 0.3896 - val_loss: 0.3456 - val_accuracy: 0.3539\n",
      "Epoch 17/100\n",
      "23/23 [==============================] - 0s 4ms/step - loss: 0.4364 - accuracy: 0.3896 - val_loss: 0.4146 - val_accuracy: 0.3539\n",
      "Epoch 18/100\n",
      "23/23 [==============================] - 0s 5ms/step - loss: 0.4127 - accuracy: 0.3896 - val_loss: 0.3641 - val_accuracy: 0.3539\n",
      "Epoch 19/100\n",
      "23/23 [==============================] - 0s 5ms/step - loss: 0.3858 - accuracy: 0.3896 - val_loss: 0.3943 - val_accuracy: 0.3539\n",
      "Epoch 20/100\n",
      "23/23 [==============================] - 0s 5ms/step - loss: 0.3758 - accuracy: 0.3896 - val_loss: 0.4268 - val_accuracy: 0.3539\n",
      "Epoch 21/100\n",
      "23/23 [==============================] - 0s 6ms/step - loss: 0.3642 - accuracy: 0.3896 - val_loss: 0.4249 - val_accuracy: 0.3539\n",
      "Epoch 22/100\n",
      "23/23 [==============================] - 0s 5ms/step - loss: 0.3661 - accuracy: 0.3896 - val_loss: 0.4172 - val_accuracy: 0.3539\n",
      "Epoch 23/100\n",
      "23/23 [==============================] - 0s 5ms/step - loss: 0.3785 - accuracy: 0.3896 - val_loss: 0.3861 - val_accuracy: 0.3539\n",
      "Epoch 24/100\n",
      "23/23 [==============================] - 0s 4ms/step - loss: 0.3416 - accuracy: 0.3896 - val_loss: 0.3861 - val_accuracy: 0.3539\n",
      "Epoch 25/100\n",
      "23/23 [==============================] - 0s 5ms/step - loss: 0.3569 - accuracy: 0.3896 - val_loss: 0.4219 - val_accuracy: 0.3539\n",
      "Epoch 26/100\n",
      "23/23 [==============================] - 0s 5ms/step - loss: 0.3826 - accuracy: 0.3896 - val_loss: 0.3420 - val_accuracy: 0.3539\n",
      "Epoch 27/100\n",
      "23/23 [==============================] - 0s 5ms/step - loss: 0.3573 - accuracy: 0.3896 - val_loss: 0.4032 - val_accuracy: 0.3539\n",
      "Epoch 28/100\n",
      "23/23 [==============================] - 0s 5ms/step - loss: 0.3639 - accuracy: 0.3896 - val_loss: 0.3385 - val_accuracy: 0.3539\n",
      "Epoch 29/100\n",
      "23/23 [==============================] - 0s 5ms/step - loss: 0.3818 - accuracy: 0.3896 - val_loss: 0.3838 - val_accuracy: 0.3539\n",
      "Epoch 30/100\n",
      "23/23 [==============================] - 0s 4ms/step - loss: 0.3822 - accuracy: 0.3896 - val_loss: 0.4026 - val_accuracy: 0.3539\n",
      "Epoch 31/100\n",
      "23/23 [==============================] - 0s 4ms/step - loss: 0.3781 - accuracy: 0.3896 - val_loss: 0.4377 - val_accuracy: 0.3539\n",
      "Epoch 32/100\n",
      "23/23 [==============================] - 0s 5ms/step - loss: 0.3479 - accuracy: 0.3896 - val_loss: 0.4248 - val_accuracy: 0.3539\n",
      "Epoch 33/100\n",
      "23/23 [==============================] - 0s 4ms/step - loss: 0.3765 - accuracy: 0.3896 - val_loss: 0.4336 - val_accuracy: 0.3539\n",
      "Epoch 34/100\n",
      "23/23 [==============================] - 0s 4ms/step - loss: 0.3498 - accuracy: 0.3896 - val_loss: 0.4023 - val_accuracy: 0.3539\n",
      "Epoch 35/100\n",
      "23/23 [==============================] - 0s 5ms/step - loss: 0.3290 - accuracy: 0.3896 - val_loss: 0.4437 - val_accuracy: 0.3539\n",
      "Epoch 36/100\n",
      "23/23 [==============================] - 0s 5ms/step - loss: 0.3527 - accuracy: 0.3896 - val_loss: 0.4343 - val_accuracy: 0.3539\n",
      "Epoch 37/100\n",
      "23/23 [==============================] - 0s 5ms/step - loss: 0.3428 - accuracy: 0.3896 - val_loss: 0.3808 - val_accuracy: 0.3539\n",
      "Epoch 38/100\n",
      "23/23 [==============================] - 0s 5ms/step - loss: 0.3549 - accuracy: 0.3896 - val_loss: 0.4227 - val_accuracy: 0.3539\n",
      "Epoch 39/100\n",
      "23/23 [==============================] - 0s 5ms/step - loss: 0.3394 - accuracy: 0.3896 - val_loss: 0.5034 - val_accuracy: 0.3539\n",
      "Epoch 40/100\n",
      "23/23 [==============================] - 0s 5ms/step - loss: 0.3560 - accuracy: 0.3896 - val_loss: 0.4391 - val_accuracy: 0.3539\n",
      "Epoch 41/100\n",
      "23/23 [==============================] - 0s 5ms/step - loss: 0.3201 - accuracy: 0.3896 - val_loss: 0.4092 - val_accuracy: 0.3539\n",
      "Epoch 42/100\n",
      "23/23 [==============================] - 0s 5ms/step - loss: 0.3185 - accuracy: 0.3896 - val_loss: 0.4810 - val_accuracy: 0.3539\n",
      "Epoch 43/100\n",
      "23/23 [==============================] - 0s 5ms/step - loss: 0.3139 - accuracy: 0.3896 - val_loss: 0.4590 - val_accuracy: 0.3539\n",
      "Epoch 44/100\n",
      "23/23 [==============================] - 0s 4ms/step - loss: 0.3127 - accuracy: 0.3896 - val_loss: 0.4925 - val_accuracy: 0.3539\n",
      "Epoch 45/100\n",
      "23/23 [==============================] - 0s 5ms/step - loss: 0.3150 - accuracy: 0.3896 - val_loss: 0.4310 - val_accuracy: 0.3539\n",
      "Epoch 46/100\n",
      "23/23 [==============================] - 0s 5ms/step - loss: 0.3123 - accuracy: 0.3896 - val_loss: 0.4668 - val_accuracy: 0.3539\n",
      "Epoch 47/100\n",
      "23/23 [==============================] - 0s 5ms/step - loss: 0.3394 - accuracy: 0.3896 - val_loss: 0.3529 - val_accuracy: 0.3539\n",
      "Epoch 48/100\n",
      "23/23 [==============================] - 0s 9ms/step - loss: 0.3490 - accuracy: 0.3896 - val_loss: 0.3581 - val_accuracy: 0.3539\n",
      "Epoch 49/100\n",
      "23/23 [==============================] - 0s 4ms/step - loss: 0.3365 - accuracy: 0.3896 - val_loss: 0.4225 - val_accuracy: 0.3539\n",
      "Epoch 50/100\n",
      "23/23 [==============================] - 0s 4ms/step - loss: 0.3140 - accuracy: 0.3896 - val_loss: 0.4408 - val_accuracy: 0.3539\n",
      "Epoch 51/100\n",
      "23/23 [==============================] - 0s 5ms/step - loss: 0.3329 - accuracy: 0.3896 - val_loss: 0.4781 - val_accuracy: 0.3539\n",
      "Epoch 52/100\n",
      "23/23 [==============================] - 0s 5ms/step - loss: 0.3764 - accuracy: 0.3896 - val_loss: 0.4304 - val_accuracy: 0.3539\n",
      "Epoch 53/100\n",
      "23/23 [==============================] - 0s 5ms/step - loss: 0.3661 - accuracy: 0.3896 - val_loss: 0.4608 - val_accuracy: 0.3539\n",
      "Epoch 54/100\n",
      "23/23 [==============================] - 0s 5ms/step - loss: 0.3697 - accuracy: 0.3896 - val_loss: 0.4437 - val_accuracy: 0.3539\n",
      "Epoch 55/100\n",
      "23/23 [==============================] - 0s 4ms/step - loss: 0.3357 - accuracy: 0.3896 - val_loss: 0.4772 - val_accuracy: 0.3539\n",
      "Epoch 56/100\n",
      "23/23 [==============================] - 0s 5ms/step - loss: 0.3424 - accuracy: 0.3896 - val_loss: 0.4059 - val_accuracy: 0.3539\n",
      "Epoch 57/100\n",
      "23/23 [==============================] - 0s 5ms/step - loss: 0.3518 - accuracy: 0.3896 - val_loss: 0.4452 - val_accuracy: 0.3539\n",
      "Epoch 58/100\n",
      "23/23 [==============================] - 0s 5ms/step - loss: 0.4178 - accuracy: 0.3896 - val_loss: 0.5023 - val_accuracy: 0.3539\n",
      "Epoch 59/100\n",
      "23/23 [==============================] - 0s 5ms/step - loss: 0.3802 - accuracy: 0.3896 - val_loss: 0.5137 - val_accuracy: 0.3539\n",
      "Epoch 60/100\n",
      "23/23 [==============================] - 0s 5ms/step - loss: 0.3717 - accuracy: 0.3896 - val_loss: 0.5258 - val_accuracy: 0.3539\n",
      "Epoch 61/100\n",
      "23/23 [==============================] - 0s 5ms/step - loss: 0.3645 - accuracy: 0.3896 - val_loss: 0.6279 - val_accuracy: 0.3539\n",
      "Epoch 62/100\n",
      "23/23 [==============================] - 0s 5ms/step - loss: 0.3433 - accuracy: 0.3896 - val_loss: 0.5360 - val_accuracy: 0.3539\n",
      "Epoch 63/100\n",
      "23/23 [==============================] - 0s 5ms/step - loss: 0.3429 - accuracy: 0.3896 - val_loss: 0.5667 - val_accuracy: 0.3539\n",
      "Epoch 64/100\n",
      "23/23 [==============================] - 0s 5ms/step - loss: 0.3615 - accuracy: 0.3896 - val_loss: 0.4373 - val_accuracy: 0.3539\n",
      "Epoch 65/100\n",
      "23/23 [==============================] - 0s 5ms/step - loss: 0.3476 - accuracy: 0.3896 - val_loss: 0.5873 - val_accuracy: 0.3539\n",
      "Epoch 66/100\n",
      "23/23 [==============================] - 0s 5ms/step - loss: 0.3637 - accuracy: 0.3896 - val_loss: 0.6264 - val_accuracy: 0.3539\n",
      "Epoch 67/100\n",
      "23/23 [==============================] - 0s 4ms/step - loss: 0.3481 - accuracy: 0.3896 - val_loss: 0.4636 - val_accuracy: 0.3539\n",
      "Epoch 68/100\n",
      "23/23 [==============================] - 0s 4ms/step - loss: 0.3444 - accuracy: 0.3896 - val_loss: 0.7699 - val_accuracy: 0.3539\n",
      "Epoch 69/100\n",
      "23/23 [==============================] - 0s 5ms/step - loss: 0.3620 - accuracy: 0.3896 - val_loss: 0.4440 - val_accuracy: 0.3539\n",
      "Epoch 70/100\n",
      "23/23 [==============================] - 0s 4ms/step - loss: 0.3668 - accuracy: 0.3896 - val_loss: 0.4751 - val_accuracy: 0.3539\n",
      "Epoch 71/100\n",
      "23/23 [==============================] - 0s 4ms/step - loss: 0.3405 - accuracy: 0.3896 - val_loss: 0.4307 - val_accuracy: 0.3539\n",
      "Epoch 72/100\n",
      "23/23 [==============================] - 0s 5ms/step - loss: 0.3356 - accuracy: 0.3896 - val_loss: 0.5965 - val_accuracy: 0.3539\n",
      "Epoch 73/100\n",
      "23/23 [==============================] - 0s 6ms/step - loss: 0.3383 - accuracy: 0.3896 - val_loss: 0.4998 - val_accuracy: 0.3539\n",
      "Epoch 74/100\n",
      "23/23 [==============================] - 0s 5ms/step - loss: 0.3613 - accuracy: 0.3896 - val_loss: 0.7348 - val_accuracy: 0.3539\n",
      "Epoch 75/100\n",
      "23/23 [==============================] - 0s 4ms/step - loss: 0.3846 - accuracy: 0.3896 - val_loss: 0.4781 - val_accuracy: 0.3539\n",
      "Epoch 76/100\n",
      "23/23 [==============================] - 0s 5ms/step - loss: 0.3734 - accuracy: 0.3896 - val_loss: 0.4301 - val_accuracy: 0.3539\n",
      "Epoch 77/100\n",
      "23/23 [==============================] - 0s 4ms/step - loss: 0.3413 - accuracy: 0.3896 - val_loss: 0.4714 - val_accuracy: 0.3539\n",
      "Epoch 78/100\n",
      "23/23 [==============================] - 0s 5ms/step - loss: 0.3256 - accuracy: 0.3896 - val_loss: 0.4443 - val_accuracy: 0.3539\n",
      "Epoch 79/100\n",
      "23/23 [==============================] - 0s 4ms/step - loss: 0.3296 - accuracy: 0.3896 - val_loss: 0.6118 - val_accuracy: 0.3539\n",
      "Epoch 80/100\n",
      "23/23 [==============================] - 0s 5ms/step - loss: 0.3582 - accuracy: 0.3896 - val_loss: 0.5268 - val_accuracy: 0.3539\n",
      "Epoch 81/100\n",
      "23/23 [==============================] - 0s 5ms/step - loss: 0.3491 - accuracy: 0.3896 - val_loss: 0.4454 - val_accuracy: 0.3539\n",
      "Epoch 82/100\n",
      "23/23 [==============================] - 0s 5ms/step - loss: 0.3462 - accuracy: 0.3896 - val_loss: 0.3753 - val_accuracy: 0.3539\n",
      "Epoch 83/100\n",
      "23/23 [==============================] - 0s 6ms/step - loss: 0.3176 - accuracy: 0.3896 - val_loss: 0.4945 - val_accuracy: 0.3539\n",
      "Epoch 84/100\n",
      "23/23 [==============================] - 0s 5ms/step - loss: 0.3077 - accuracy: 0.3896 - val_loss: 0.3816 - val_accuracy: 0.3539\n",
      "Epoch 85/100\n",
      "23/23 [==============================] - 0s 5ms/step - loss: 0.3247 - accuracy: 0.3896 - val_loss: 0.4746 - val_accuracy: 0.3539\n",
      "Epoch 86/100\n",
      "23/23 [==============================] - 0s 5ms/step - loss: 0.3093 - accuracy: 0.3896 - val_loss: 0.4960 - val_accuracy: 0.3539\n",
      "Epoch 87/100\n",
      "23/23 [==============================] - 0s 5ms/step - loss: 0.3276 - accuracy: 0.3896 - val_loss: 0.3953 - val_accuracy: 0.3539\n",
      "Epoch 88/100\n",
      "23/23 [==============================] - 0s 5ms/step - loss: 0.3070 - accuracy: 0.3896 - val_loss: 0.5704 - val_accuracy: 0.3539\n",
      "Epoch 89/100\n",
      "23/23 [==============================] - 0s 5ms/step - loss: 0.3228 - accuracy: 0.3896 - val_loss: 0.5254 - val_accuracy: 0.3539\n",
      "Epoch 90/100\n",
      "23/23 [==============================] - 0s 6ms/step - loss: 0.3041 - accuracy: 0.3896 - val_loss: 0.6298 - val_accuracy: 0.3539\n",
      "Epoch 91/100\n",
      "23/23 [==============================] - 0s 7ms/step - loss: 0.3096 - accuracy: 0.3896 - val_loss: 0.4581 - val_accuracy: 0.3539\n",
      "Epoch 92/100\n",
      "23/23 [==============================] - 0s 7ms/step - loss: 0.3056 - accuracy: 0.3896 - val_loss: 0.4910 - val_accuracy: 0.3539\n",
      "Epoch 93/100\n",
      "23/23 [==============================] - 0s 6ms/step - loss: 0.3059 - accuracy: 0.3896 - val_loss: 0.4496 - val_accuracy: 0.3539\n",
      "Epoch 94/100\n",
      "23/23 [==============================] - 0s 5ms/step - loss: 0.2997 - accuracy: 0.3896 - val_loss: 0.4621 - val_accuracy: 0.3539\n",
      "Epoch 95/100\n",
      "23/23 [==============================] - 0s 6ms/step - loss: 0.2953 - accuracy: 0.3896 - val_loss: 0.6174 - val_accuracy: 0.3539\n",
      "Epoch 96/100\n",
      "23/23 [==============================] - 0s 5ms/step - loss: 0.3046 - accuracy: 0.3896 - val_loss: 0.4284 - val_accuracy: 0.3539\n",
      "Epoch 97/100\n",
      "23/23 [==============================] - 0s 5ms/step - loss: 0.2964 - accuracy: 0.3896 - val_loss: 0.4757 - val_accuracy: 0.3539\n",
      "Epoch 98/100\n",
      "23/23 [==============================] - 0s 5ms/step - loss: 0.2976 - accuracy: 0.3896 - val_loss: 0.4399 - val_accuracy: 0.3539\n",
      "Epoch 99/100\n",
      "23/23 [==============================] - 0s 6ms/step - loss: 0.3081 - accuracy: 0.3896 - val_loss: 0.5947 - val_accuracy: 0.3539\n",
      "Epoch 100/100\n",
      "23/23 [==============================] - 0s 5ms/step - loss: 0.3153 - accuracy: 0.3896 - val_loss: 0.4847 - val_accuracy: 0.3539\n",
      "CPU times: user 14.8 s, sys: 1.09 s, total: 15.8 s\n",
      "Wall time: 22 s\n"
     ]
    }
   ],
   "source": [
    "%%time\n",
    "history = model.fit(\n",
    "    X_train_scaled,\n",
    "    y_train,\n",
    "    epochs=100,\n",
    "    # Suppress logging.\n",
    "    verbose=1,\n",
    "    # Calculate validation results on 20% of the training data.\n",
    "    validation_split = 0.2)"
   ]
  },
  {
   "cell_type": "code",
   "execution_count": 47,
   "id": "31f5e83f",
   "metadata": {
    "execution": {
     "iopub.execute_input": "2024-02-24T22:50:48.982098Z",
     "iopub.status.busy": "2024-02-24T22:50:48.981577Z",
     "iopub.status.idle": "2024-02-24T22:50:51.565675Z",
     "shell.execute_reply": "2024-02-24T22:50:51.563627Z"
    },
    "papermill": {
     "duration": 2.646197,
     "end_time": "2024-02-24T22:50:51.568393",
     "exception": false,
     "start_time": "2024-02-24T22:50:48.922196",
     "status": "completed"
    },
    "tags": []
   },
   "outputs": [
    {
     "data": {
      "text/plain": [
       "0.8483145833015442"
      ]
     },
     "execution_count": 47,
     "metadata": {},
     "output_type": "execute_result"
    }
   ],
   "source": [
    "import tensorflow as tf\n",
    "\n",
    "model = tf.keras.Sequential([\n",
    "    tf.keras.layers.Dense(12, input_shape=(41,), activation='relu'),  # Reduced complexity\n",
    "    tf.keras.layers.Dense(26, activation='relu'),\n",
    "    tf.keras.layers.Dense(24, activation='relu'),\n",
    "    tf.keras.layers.Dense(1, activation='sigmoid')  # Use sigmoid for binary classification\n",
    "])\n",
    "\n",
    "model.compile(\n",
    "    optimizer=tf.keras.optimizers.Adam(learning_rate=0.01),  # Lower learning rate\n",
    "    loss='binary_crossentropy',  # Assuming binary classification\n",
    "    metrics=['accuracy']\n",
    ")\n",
    "\n",
    "history = model.fit(\n",
    "    X_train_scaled,\n",
    "    y_train,\n",
    "    epochs=100,\n",
    "    verbose=0,\n",
    "    validation_split=0.2,\n",
    "    callbacks=[\n",
    "        tf.keras.callbacks.EarlyStopping(monitor='val_accuracy', patience=5)  # Early stopping\n",
    "    ]\n",
    ")\n",
    "\n",
    "history.history['val_accuracy'][-1]"
   ]
  },
  {
   "cell_type": "code",
   "execution_count": 48,
   "id": "65a9b20f",
   "metadata": {
    "execution": {
     "iopub.execute_input": "2024-02-24T22:50:51.679701Z",
     "iopub.status.busy": "2024-02-24T22:50:51.679252Z",
     "iopub.status.idle": "2024-02-24T22:50:51.688821Z",
     "shell.execute_reply": "2024-02-24T22:50:51.687527Z"
    },
    "papermill": {
     "duration": 0.069015,
     "end_time": "2024-02-24T22:50:51.691517",
     "exception": false,
     "start_time": "2024-02-24T22:50:51.622502",
     "status": "completed"
    },
    "tags": []
   },
   "outputs": [],
   "source": [
    "def black_box_function(x, y, z):\n",
    "    \n",
    "    model = tf.keras.Sequential([\n",
    "    tf.keras.layers.Dense(x, input_shape=(41,), activation='relu'),  # Reduced complexity\n",
    "    tf.keras.layers.Dense(y, activation='relu'),\n",
    "    tf.keras.layers.Dense(z, activation='relu'),\n",
    "    tf.keras.layers.Dense(1, activation='sigmoid')  # Use sigmoid for binary classification\n",
    "    ])\n",
    "\n",
    "    model.compile(\n",
    "        optimizer=tf.keras.optimizers.Adam(learning_rate=0.001),  # Lower learning rate\n",
    "        loss='binary_crossentropy',  # Assuming binary classification\n",
    "        metrics=['accuracy']\n",
    "    )\n",
    "\n",
    "    history = model.fit(\n",
    "        X_train_scaled,\n",
    "        y_train,\n",
    "        epochs=200,\n",
    "        verbose=0,\n",
    "        validation_split=0.2,\n",
    "        callbacks=[\n",
    "            tf.keras.callbacks.EarlyStopping(monitor='val_accuracy', patience=5)  # Early stopping\n",
    "        ]\n",
    "    )\n",
    "\n",
    "    return -1 * history.history['loss'][-1]"
   ]
  },
  {
   "cell_type": "code",
   "execution_count": 49,
   "id": "03c77248",
   "metadata": {
    "execution": {
     "iopub.execute_input": "2024-02-24T22:50:51.807011Z",
     "iopub.status.busy": "2024-02-24T22:50:51.806602Z",
     "iopub.status.idle": "2024-02-24T22:50:51.857150Z",
     "shell.execute_reply": "2024-02-24T22:50:51.855920Z"
    },
    "papermill": {
     "duration": 0.109302,
     "end_time": "2024-02-24T22:50:51.859883",
     "exception": false,
     "start_time": "2024-02-24T22:50:51.750581",
     "status": "completed"
    },
    "tags": []
   },
   "outputs": [],
   "source": [
    "from bayes_opt import BayesianOptimization\n",
    "\n",
    "# Bounded region of parameter space\n",
    "pbounds = {'x': (5, 30), 'y': (5, 30), 'z': (5, 30)}\n",
    "\n",
    "optimizer = BayesianOptimization(\n",
    "    f=black_box_function,\n",
    "    pbounds=pbounds,\n",
    "    random_state=1,\n",
    ")"
   ]
  },
  {
   "cell_type": "code",
   "execution_count": 50,
   "id": "7e782a1d",
   "metadata": {
    "execution": {
     "iopub.execute_input": "2024-02-24T22:50:51.974039Z",
     "iopub.status.busy": "2024-02-24T22:50:51.973638Z",
     "iopub.status.idle": "2024-02-24T22:57:12.182092Z",
     "shell.execute_reply": "2024-02-24T22:57:12.180646Z"
    },
    "papermill": {
     "duration": 380.332504,
     "end_time": "2024-02-24T22:57:12.248356",
     "exception": false,
     "start_time": "2024-02-24T22:50:51.915852",
     "status": "completed"
    },
    "tags": []
   },
   "outputs": [
    {
     "name": "stdout",
     "output_type": "stream",
     "text": [
      "|   iter    |  target   |     x     |     y     |     z     |\n",
      "-------------------------------------------------------------\n",
      "| \u001b[0m1        \u001b[0m | \u001b[0m-0.3908  \u001b[0m | \u001b[0m15.43    \u001b[0m | \u001b[0m23.01    \u001b[0m | \u001b[0m5.003    \u001b[0m |\n",
      "| \u001b[0m2        \u001b[0m | \u001b[0m-0.3958  \u001b[0m | \u001b[0m12.56    \u001b[0m | \u001b[0m8.669    \u001b[0m | \u001b[0m7.308    \u001b[0m |\n",
      "| \u001b[0m3        \u001b[0m | \u001b[0m-0.3994  \u001b[0m | \u001b[0m15.9     \u001b[0m | \u001b[0m22.94    \u001b[0m | \u001b[0m5.354    \u001b[0m |\n",
      "| \u001b[95m4        \u001b[0m | \u001b[95m-0.3819  \u001b[0m | \u001b[95m18.31    \u001b[0m | \u001b[95m24.68    \u001b[0m | \u001b[95m9.372    \u001b[0m |\n",
      "| \u001b[0m5        \u001b[0m | \u001b[0m-0.3921  \u001b[0m | \u001b[0m19.9     \u001b[0m | \u001b[0m11.53    \u001b[0m | \u001b[0m23.67    \u001b[0m |\n",
      "| \u001b[0m6        \u001b[0m | \u001b[0m-0.4121  \u001b[0m | \u001b[0m10.69    \u001b[0m | \u001b[0m8.89     \u001b[0m | \u001b[0m28.68    \u001b[0m |\n",
      "| \u001b[0m7        \u001b[0m | \u001b[0m-0.4204  \u001b[0m | \u001b[0m23.16    \u001b[0m | \u001b[0m23.22    \u001b[0m | \u001b[0m9.867    \u001b[0m |\n",
      "| \u001b[0m8        \u001b[0m | \u001b[0m-0.3985  \u001b[0m | \u001b[0m17.98    \u001b[0m | \u001b[0m24.38    \u001b[0m | \u001b[0m8.645    \u001b[0m |\n",
      "| \u001b[0m9        \u001b[0m | \u001b[0m-0.3988  \u001b[0m | \u001b[0m18.93    \u001b[0m | \u001b[0m24.77    \u001b[0m | \u001b[0m9.117    \u001b[0m |\n",
      "| \u001b[95m10       \u001b[0m | \u001b[95m-0.3799  \u001b[0m | \u001b[95m17.22    \u001b[0m | \u001b[95m26.03    \u001b[0m | \u001b[95m29.48    \u001b[0m |\n",
      "| \u001b[0m11       \u001b[0m | \u001b[0m-0.3807  \u001b[0m | \u001b[0m13.06    \u001b[0m | \u001b[0m24.09    \u001b[0m | \u001b[0m26.42    \u001b[0m |\n",
      "| \u001b[95m12       \u001b[0m | \u001b[95m-0.3708  \u001b[0m | \u001b[95m26.37    \u001b[0m | \u001b[95m22.98    \u001b[0m | \u001b[95m27.8     \u001b[0m |\n",
      "| \u001b[0m13       \u001b[0m | \u001b[0m-0.3795  \u001b[0m | \u001b[0m21.93    \u001b[0m | \u001b[0m18.7     \u001b[0m | \u001b[0m14.58    \u001b[0m |\n",
      "| \u001b[0m14       \u001b[0m | \u001b[0m-0.4116  \u001b[0m | \u001b[0m8.519    \u001b[0m | \u001b[0m8.484    \u001b[0m | \u001b[0m12.92    \u001b[0m |\n",
      "| \u001b[0m15       \u001b[0m | \u001b[0m-0.4434  \u001b[0m | \u001b[0m11.85    \u001b[0m | \u001b[0m24.11    \u001b[0m | \u001b[0m6.672    \u001b[0m |\n",
      "| \u001b[0m16       \u001b[0m | \u001b[0m-0.3881  \u001b[0m | \u001b[0m25.93    \u001b[0m | \u001b[0m23.7     \u001b[0m | \u001b[0m27.89    \u001b[0m |\n",
      "| \u001b[0m17       \u001b[0m | \u001b[0m-0.3711  \u001b[0m | \u001b[0m26.24    \u001b[0m | \u001b[0m22.12    \u001b[0m | \u001b[0m27.9     \u001b[0m |\n",
      "| \u001b[0m18       \u001b[0m | \u001b[0m-0.3858  \u001b[0m | \u001b[0m27.47    \u001b[0m | \u001b[0m22.51    \u001b[0m | \u001b[0m28.5     \u001b[0m |\n",
      "| \u001b[0m19       \u001b[0m | \u001b[0m-0.4044  \u001b[0m | \u001b[0m26.44    \u001b[0m | \u001b[0m22.56    \u001b[0m | \u001b[0m27.08    \u001b[0m |\n",
      "| \u001b[95m20       \u001b[0m | \u001b[95m-0.3642  \u001b[0m | \u001b[95m25.86    \u001b[0m | \u001b[95m23.53    \u001b[0m | \u001b[95m27.84    \u001b[0m |\n",
      "| \u001b[0m21       \u001b[0m | \u001b[0m-0.3921  \u001b[0m | \u001b[0m26.38    \u001b[0m | \u001b[0m21.86    \u001b[0m | \u001b[0m27.65    \u001b[0m |\n",
      "| \u001b[0m22       \u001b[0m | \u001b[0m-0.3881  \u001b[0m | \u001b[0m27.79    \u001b[0m | \u001b[0m20.57    \u001b[0m | \u001b[0m29.23    \u001b[0m |\n",
      "| \u001b[0m23       \u001b[0m | \u001b[0m-0.3933  \u001b[0m | \u001b[0m18.5     \u001b[0m | \u001b[0m24.78    \u001b[0m | \u001b[0m9.27     \u001b[0m |\n",
      "| \u001b[0m24       \u001b[0m | \u001b[0m-0.4202  \u001b[0m | \u001b[0m10.75    \u001b[0m | \u001b[0m6.62     \u001b[0m | \u001b[0m22.6     \u001b[0m |\n",
      "| \u001b[0m25       \u001b[0m | \u001b[0m-0.3911  \u001b[0m | \u001b[0m25.96    \u001b[0m | \u001b[0m23.54    \u001b[0m | \u001b[0m27.62    \u001b[0m |\n",
      "| \u001b[95m26       \u001b[0m | \u001b[95m-0.3628  \u001b[0m | \u001b[95m25.58    \u001b[0m | \u001b[95m23.4     \u001b[0m | \u001b[95m27.87    \u001b[0m |\n",
      "| \u001b[0m27       \u001b[0m | \u001b[0m-0.3922  \u001b[0m | \u001b[0m25.98    \u001b[0m | \u001b[0m15.46    \u001b[0m | \u001b[0m12.4     \u001b[0m |\n",
      "| \u001b[0m28       \u001b[0m | \u001b[0m-0.3782  \u001b[0m | \u001b[0m25.88    \u001b[0m | \u001b[0m23.0     \u001b[0m | \u001b[0m27.55    \u001b[0m |\n",
      "| \u001b[0m29       \u001b[0m | \u001b[0m-0.3777  \u001b[0m | \u001b[0m26.42    \u001b[0m | \u001b[0m21.81    \u001b[0m | \u001b[0m27.57    \u001b[0m |\n",
      "| \u001b[0m30       \u001b[0m | \u001b[0m-0.4276  \u001b[0m | \u001b[0m6.075    \u001b[0m | \u001b[0m15.37    \u001b[0m | \u001b[0m5.132    \u001b[0m |\n",
      "| \u001b[0m31       \u001b[0m | \u001b[0m-0.3913  \u001b[0m | \u001b[0m26.48    \u001b[0m | \u001b[0m22.74    \u001b[0m | \u001b[0m27.53    \u001b[0m |\n",
      "| \u001b[0m32       \u001b[0m | \u001b[0m-0.409   \u001b[0m | \u001b[0m25.9     \u001b[0m | \u001b[0m23.15    \u001b[0m | \u001b[0m27.37    \u001b[0m |\n",
      "| \u001b[0m33       \u001b[0m | \u001b[0m-0.3935  \u001b[0m | \u001b[0m25.83    \u001b[0m | \u001b[0m22.15    \u001b[0m | \u001b[0m27.63    \u001b[0m |\n",
      "| \u001b[0m34       \u001b[0m | \u001b[0m-0.4071  \u001b[0m | \u001b[0m7.58     \u001b[0m | \u001b[0m6.429    \u001b[0m | \u001b[0m14.24    \u001b[0m |\n",
      "| \u001b[0m35       \u001b[0m | \u001b[0m-0.3675  \u001b[0m | \u001b[0m26.31    \u001b[0m | \u001b[0m21.98    \u001b[0m | \u001b[0m28.2     \u001b[0m |\n",
      "| \u001b[0m36       \u001b[0m | \u001b[0m-0.417   \u001b[0m | \u001b[0m6.054    \u001b[0m | \u001b[0m7.921    \u001b[0m | \u001b[0m17.54    \u001b[0m |\n",
      "| \u001b[95m37       \u001b[0m | \u001b[95m-0.3609  \u001b[0m | \u001b[95m13.05    \u001b[0m | \u001b[95m23.77    \u001b[0m | \u001b[95m26.36    \u001b[0m |\n",
      "| \u001b[0m38       \u001b[0m | \u001b[0m-0.3789  \u001b[0m | \u001b[0m13.11    \u001b[0m | \u001b[0m23.65    \u001b[0m | \u001b[0m26.13    \u001b[0m |\n",
      "| \u001b[0m39       \u001b[0m | \u001b[0m-0.3951  \u001b[0m | \u001b[0m24.07    \u001b[0m | \u001b[0m16.71    \u001b[0m | \u001b[0m9.9      \u001b[0m |\n",
      "| \u001b[0m40       \u001b[0m | \u001b[0m-0.4004  \u001b[0m | \u001b[0m12.85    \u001b[0m | \u001b[0m23.75    \u001b[0m | \u001b[0m25.98    \u001b[0m |\n",
      "| \u001b[0m41       \u001b[0m | \u001b[0m-0.3811  \u001b[0m | \u001b[0m25.55    \u001b[0m | \u001b[0m23.26    \u001b[0m | \u001b[0m27.94    \u001b[0m |\n",
      "| \u001b[0m42       \u001b[0m | \u001b[0m-0.4042  \u001b[0m | \u001b[0m11.37    \u001b[0m | \u001b[0m26.14    \u001b[0m | \u001b[0m8.266    \u001b[0m |\n",
      "| \u001b[0m43       \u001b[0m | \u001b[0m-0.3983  \u001b[0m | \u001b[0m23.87    \u001b[0m | \u001b[0m10.91    \u001b[0m | \u001b[0m26.88    \u001b[0m |\n",
      "| \u001b[0m44       \u001b[0m | \u001b[0m-0.3918  \u001b[0m | \u001b[0m26.81    \u001b[0m | \u001b[0m21.88    \u001b[0m | \u001b[0m27.43    \u001b[0m |\n",
      "| \u001b[0m45       \u001b[0m | \u001b[0m-0.4145  \u001b[0m | \u001b[0m25.27    \u001b[0m | \u001b[0m23.68    \u001b[0m | \u001b[0m27.24    \u001b[0m |\n",
      "| \u001b[0m46       \u001b[0m | \u001b[0m-0.3869  \u001b[0m | \u001b[0m19.91    \u001b[0m | \u001b[0m16.65    \u001b[0m | \u001b[0m29.72    \u001b[0m |\n",
      "| \u001b[0m47       \u001b[0m | \u001b[0m-0.3651  \u001b[0m | \u001b[0m26.56    \u001b[0m | \u001b[0m21.42    \u001b[0m | \u001b[0m27.21    \u001b[0m |\n",
      "| \u001b[0m48       \u001b[0m | \u001b[0m-0.4379  \u001b[0m | \u001b[0m7.088    \u001b[0m | \u001b[0m10.06    \u001b[0m | \u001b[0m12.45    \u001b[0m |\n",
      "| \u001b[0m49       \u001b[0m | \u001b[0m-0.4109  \u001b[0m | \u001b[0m6.665    \u001b[0m | \u001b[0m17.72    \u001b[0m | \u001b[0m7.705    \u001b[0m |\n",
      "| \u001b[0m50       \u001b[0m | \u001b[0m-0.4174  \u001b[0m | \u001b[0m13.97    \u001b[0m | \u001b[0m8.307    \u001b[0m | \u001b[0m16.1     \u001b[0m |\n",
      "| \u001b[0m51       \u001b[0m | \u001b[0m-0.3903  \u001b[0m | \u001b[0m21.38    \u001b[0m | \u001b[0m11.23    \u001b[0m | \u001b[0m21.07    \u001b[0m |\n",
      "| \u001b[0m52       \u001b[0m | \u001b[0m-0.372   \u001b[0m | \u001b[0m29.8     \u001b[0m | \u001b[0m26.44    \u001b[0m | \u001b[0m27.62    \u001b[0m |\n",
      "| \u001b[0m53       \u001b[0m | \u001b[0m-0.3815  \u001b[0m | \u001b[0m26.67    \u001b[0m | \u001b[0m22.32    \u001b[0m | \u001b[0m28.07    \u001b[0m |\n",
      "| \u001b[0m54       \u001b[0m | \u001b[0m-0.4162  \u001b[0m | \u001b[0m6.055    \u001b[0m | \u001b[0m21.44    \u001b[0m | \u001b[0m29.78    \u001b[0m |\n",
      "| \u001b[0m55       \u001b[0m | \u001b[0m-0.3683  \u001b[0m | \u001b[0m26.47    \u001b[0m | \u001b[0m23.37    \u001b[0m | \u001b[0m28.1     \u001b[0m |\n",
      "| \u001b[0m56       \u001b[0m | \u001b[0m-0.4309  \u001b[0m | \u001b[0m7.716    \u001b[0m | \u001b[0m25.39    \u001b[0m | \u001b[0m29.37    \u001b[0m |\n",
      "| \u001b[0m57       \u001b[0m | \u001b[0m-0.3735  \u001b[0m | \u001b[0m26.79    \u001b[0m | \u001b[0m9.465    \u001b[0m | \u001b[0m15.47    \u001b[0m |\n",
      "| \u001b[0m58       \u001b[0m | \u001b[0m-0.4137  \u001b[0m | \u001b[0m6.798    \u001b[0m | \u001b[0m8.903    \u001b[0m | \u001b[0m21.94    \u001b[0m |\n",
      "| \u001b[95m59       \u001b[0m | \u001b[95m-0.3552  \u001b[0m | \u001b[95m25.95    \u001b[0m | \u001b[95m21.88    \u001b[0m | \u001b[95m28.19    \u001b[0m |\n",
      "| \u001b[0m60       \u001b[0m | \u001b[0m-0.4101  \u001b[0m | \u001b[0m19.19    \u001b[0m | \u001b[0m11.88    \u001b[0m | \u001b[0m17.81    \u001b[0m |\n",
      "| \u001b[0m61       \u001b[0m | \u001b[0m-0.3917  \u001b[0m | \u001b[0m26.17    \u001b[0m | \u001b[0m23.19    \u001b[0m | \u001b[0m28.21    \u001b[0m |\n",
      "| \u001b[0m62       \u001b[0m | \u001b[0m-0.4084  \u001b[0m | \u001b[0m26.85    \u001b[0m | \u001b[0m23.73    \u001b[0m | \u001b[0m28.28    \u001b[0m |\n",
      "| \u001b[0m63       \u001b[0m | \u001b[0m-0.4675  \u001b[0m | \u001b[0m5.425    \u001b[0m | \u001b[0m12.33    \u001b[0m | \u001b[0m12.79    \u001b[0m |\n",
      "| \u001b[0m64       \u001b[0m | \u001b[0m-0.3939  \u001b[0m | \u001b[0m7.156    \u001b[0m | \u001b[0m18.68    \u001b[0m | \u001b[0m8.626    \u001b[0m |\n",
      "| \u001b[0m65       \u001b[0m | \u001b[0m-0.4033  \u001b[0m | \u001b[0m25.51    \u001b[0m | \u001b[0m23.43    \u001b[0m | \u001b[0m27.73    \u001b[0m |\n",
      "| \u001b[0m66       \u001b[0m | \u001b[0m-0.3781  \u001b[0m | \u001b[0m26.14    \u001b[0m | \u001b[0m21.67    \u001b[0m | \u001b[0m28.24    \u001b[0m |\n",
      "| \u001b[0m67       \u001b[0m | \u001b[0m-0.3729  \u001b[0m | \u001b[0m13.36    \u001b[0m | \u001b[0m23.76    \u001b[0m | \u001b[0m26.35    \u001b[0m |\n",
      "| \u001b[0m68       \u001b[0m | \u001b[0m-0.3819  \u001b[0m | \u001b[0m25.8     \u001b[0m | \u001b[0m21.78    \u001b[0m | \u001b[0m28.45    \u001b[0m |\n",
      "| \u001b[0m69       \u001b[0m | \u001b[0m-0.3885  \u001b[0m | \u001b[0m17.24    \u001b[0m | \u001b[0m25.94    \u001b[0m | \u001b[0m29.34    \u001b[0m |\n",
      "| \u001b[0m70       \u001b[0m | \u001b[0m-0.3927  \u001b[0m | \u001b[0m26.85    \u001b[0m | \u001b[0m21.86    \u001b[0m | \u001b[0m27.98    \u001b[0m |\n",
      "| \u001b[0m71       \u001b[0m | \u001b[0m-0.3785  \u001b[0m | \u001b[0m17.64    \u001b[0m | \u001b[0m29.75    \u001b[0m | \u001b[0m15.06    \u001b[0m |\n",
      "| \u001b[0m72       \u001b[0m | \u001b[0m-0.3721  \u001b[0m | \u001b[0m26.79    \u001b[0m | \u001b[0m22.87    \u001b[0m | \u001b[0m27.91    \u001b[0m |\n",
      "| \u001b[0m73       \u001b[0m | \u001b[0m-0.4134  \u001b[0m | \u001b[0m16.46    \u001b[0m | \u001b[0m29.23    \u001b[0m | \u001b[0m19.23    \u001b[0m |\n",
      "| \u001b[0m74       \u001b[0m | \u001b[0m-0.4221  \u001b[0m | \u001b[0m12.96    \u001b[0m | \u001b[0m23.83    \u001b[0m | \u001b[0m26.44    \u001b[0m |\n",
      "| \u001b[0m75       \u001b[0m | \u001b[0m-0.4704  \u001b[0m | \u001b[0m8.362    \u001b[0m | \u001b[0m28.47    \u001b[0m | \u001b[0m5.237    \u001b[0m |\n",
      "| \u001b[0m76       \u001b[0m | \u001b[0m-0.4142  \u001b[0m | \u001b[0m18.67    \u001b[0m | \u001b[0m24.63    \u001b[0m | \u001b[0m9.257    \u001b[0m |\n",
      "| \u001b[0m77       \u001b[0m | \u001b[0m-0.4533  \u001b[0m | \u001b[0m9.419    \u001b[0m | \u001b[0m10.23    \u001b[0m | \u001b[0m18.27    \u001b[0m |\n",
      "| \u001b[0m78       \u001b[0m | \u001b[0m-0.3823  \u001b[0m | \u001b[0m25.64    \u001b[0m | \u001b[0m7.997    \u001b[0m | \u001b[0m18.96    \u001b[0m |\n",
      "| \u001b[0m79       \u001b[0m | \u001b[0m-0.3873  \u001b[0m | \u001b[0m22.75    \u001b[0m | \u001b[0m16.41    \u001b[0m | \u001b[0m27.89    \u001b[0m |\n",
      "| \u001b[0m80       \u001b[0m | \u001b[0m-0.3718  \u001b[0m | \u001b[0m17.78    \u001b[0m | \u001b[0m22.77    \u001b[0m | \u001b[0m28.33    \u001b[0m |\n",
      "| \u001b[0m81       \u001b[0m | \u001b[0m-0.384   \u001b[0m | \u001b[0m19.89    \u001b[0m | \u001b[0m28.76    \u001b[0m | \u001b[0m19.85    \u001b[0m |\n",
      "| \u001b[0m82       \u001b[0m | \u001b[0m-0.3707  \u001b[0m | \u001b[0m25.78    \u001b[0m | \u001b[0m26.01    \u001b[0m | \u001b[0m18.44    \u001b[0m |\n",
      "| \u001b[0m83       \u001b[0m | \u001b[0m-0.3874  \u001b[0m | \u001b[0m21.45    \u001b[0m | \u001b[0m11.06    \u001b[0m | \u001b[0m21.15    \u001b[0m |\n",
      "| \u001b[0m84       \u001b[0m | \u001b[0m-0.4088  \u001b[0m | \u001b[0m24.82    \u001b[0m | \u001b[0m8.523    \u001b[0m | \u001b[0m24.81    \u001b[0m |\n",
      "| \u001b[0m85       \u001b[0m | \u001b[0m-0.4095  \u001b[0m | \u001b[0m19.88    \u001b[0m | \u001b[0m11.59    \u001b[0m | \u001b[0m23.71    \u001b[0m |\n",
      "| \u001b[0m86       \u001b[0m | \u001b[0m-0.3997  \u001b[0m | \u001b[0m14.75    \u001b[0m | \u001b[0m5.882    \u001b[0m | \u001b[0m8.871    \u001b[0m |\n",
      "| \u001b[0m87       \u001b[0m | \u001b[0m-0.4143  \u001b[0m | \u001b[0m5.635    \u001b[0m | \u001b[0m5.903    \u001b[0m | \u001b[0m5.746    \u001b[0m |\n",
      "| \u001b[0m88       \u001b[0m | \u001b[0m-0.3978  \u001b[0m | \u001b[0m14.77    \u001b[0m | \u001b[0m9.618    \u001b[0m | \u001b[0m7.091    \u001b[0m |\n",
      "| \u001b[0m89       \u001b[0m | \u001b[0m-0.3953  \u001b[0m | \u001b[0m16.94    \u001b[0m | \u001b[0m10.27    \u001b[0m | \u001b[0m25.39    \u001b[0m |\n",
      "| \u001b[0m90       \u001b[0m | \u001b[0m-0.3896  \u001b[0m | \u001b[0m24.73    \u001b[0m | \u001b[0m22.9     \u001b[0m | \u001b[0m27.13    \u001b[0m |\n",
      "| \u001b[0m91       \u001b[0m | \u001b[0m-0.4057  \u001b[0m | \u001b[0m8.793    \u001b[0m | \u001b[0m28.6     \u001b[0m | \u001b[0m18.36    \u001b[0m |\n",
      "| \u001b[0m92       \u001b[0m | \u001b[0m-0.3838  \u001b[0m | \u001b[0m17.1     \u001b[0m | \u001b[0m15.39    \u001b[0m | \u001b[0m24.52    \u001b[0m |\n",
      "| \u001b[0m93       \u001b[0m | \u001b[0m-0.371   \u001b[0m | \u001b[0m27.28    \u001b[0m | \u001b[0m25.49    \u001b[0m | \u001b[0m14.19    \u001b[0m |\n",
      "| \u001b[0m94       \u001b[0m | \u001b[0m-0.399   \u001b[0m | \u001b[0m11.96    \u001b[0m | \u001b[0m24.53    \u001b[0m | \u001b[0m17.71    \u001b[0m |\n",
      "| \u001b[0m95       \u001b[0m | \u001b[0m-0.4042  \u001b[0m | \u001b[0m20.98    \u001b[0m | \u001b[0m7.479    \u001b[0m | \u001b[0m8.587    \u001b[0m |\n",
      "| \u001b[0m96       \u001b[0m | \u001b[0m-0.3983  \u001b[0m | \u001b[0m21.55    \u001b[0m | \u001b[0m26.55    \u001b[0m | \u001b[0m18.63    \u001b[0m |\n",
      "| \u001b[0m97       \u001b[0m | \u001b[0m-0.4013  \u001b[0m | \u001b[0m25.39    \u001b[0m | \u001b[0m15.73    \u001b[0m | \u001b[0m26.96    \u001b[0m |\n",
      "| \u001b[0m98       \u001b[0m | \u001b[0m-0.3925  \u001b[0m | \u001b[0m14.96    \u001b[0m | \u001b[0m21.4     \u001b[0m | \u001b[0m12.1     \u001b[0m |\n",
      "| \u001b[0m99       \u001b[0m | \u001b[0m-0.4156  \u001b[0m | \u001b[0m6.569    \u001b[0m | \u001b[0m26.69    \u001b[0m | \u001b[0m12.99    \u001b[0m |\n",
      "| \u001b[0m100      \u001b[0m | \u001b[0m-0.3834  \u001b[0m | \u001b[0m15.16    \u001b[0m | \u001b[0m18.09    \u001b[0m | \u001b[0m28.79    \u001b[0m |\n",
      "| \u001b[0m101      \u001b[0m | \u001b[0m-0.4097  \u001b[0m | \u001b[0m25.94    \u001b[0m | \u001b[0m13.1     \u001b[0m | \u001b[0m20.28    \u001b[0m |\n",
      "| \u001b[0m102      \u001b[0m | \u001b[0m-0.4697  \u001b[0m | \u001b[0m12.37    \u001b[0m | \u001b[0m5.213    \u001b[0m | \u001b[0m8.894    \u001b[0m |\n",
      "=============================================================\n"
     ]
    }
   ],
   "source": [
    "optimizer.maximize(\n",
    "    init_points=2,\n",
    "    n_iter=100,\n",
    ")"
   ]
  },
  {
   "cell_type": "code",
   "execution_count": 51,
   "id": "acd8369e",
   "metadata": {
    "execution": {
     "iopub.execute_input": "2024-02-24T22:57:12.378386Z",
     "iopub.status.busy": "2024-02-24T22:57:12.377601Z",
     "iopub.status.idle": "2024-02-24T22:57:14.565872Z",
     "shell.execute_reply": "2024-02-24T22:57:14.564465Z"
    },
    "papermill": {
     "duration": 2.256245,
     "end_time": "2024-02-24T22:57:14.568689",
     "exception": false,
     "start_time": "2024-02-24T22:57:12.312444",
     "status": "completed"
    },
    "tags": []
   },
   "outputs": [
    {
     "name": "stdout",
     "output_type": "stream",
     "text": [
      "14/14 [==============================] - 0s 2ms/step\n"
     ]
    }
   ],
   "source": [
    "y_hat = model.predict(X_test_scaled)"
   ]
  },
  {
   "cell_type": "code",
   "execution_count": 52,
   "id": "065d9ec0",
   "metadata": {
    "execution": {
     "iopub.execute_input": "2024-02-24T22:57:14.698037Z",
     "iopub.status.busy": "2024-02-24T22:57:14.697517Z",
     "iopub.status.idle": "2024-02-24T22:57:14.705665Z",
     "shell.execute_reply": "2024-02-24T22:57:14.704217Z"
    },
    "papermill": {
     "duration": 0.077414,
     "end_time": "2024-02-24T22:57:14.708145",
     "exception": false,
     "start_time": "2024-02-24T22:57:14.630731",
     "status": "completed"
    },
    "tags": []
   },
   "outputs": [
    {
     "data": {
      "text/plain": [
       "(418, 1)"
      ]
     },
     "execution_count": 52,
     "metadata": {},
     "output_type": "execute_result"
    }
   ],
   "source": [
    "y_hat.shape"
   ]
  },
  {
   "cell_type": "code",
   "execution_count": 53,
   "id": "4a0b3c41",
   "metadata": {
    "execution": {
     "iopub.execute_input": "2024-02-24T22:57:14.833058Z",
     "iopub.status.busy": "2024-02-24T22:57:14.832682Z",
     "iopub.status.idle": "2024-02-24T22:57:14.838402Z",
     "shell.execute_reply": "2024-02-24T22:57:14.837235Z"
    },
    "papermill": {
     "duration": 0.070092,
     "end_time": "2024-02-24T22:57:14.841104",
     "exception": false,
     "start_time": "2024-02-24T22:57:14.771012",
     "status": "completed"
    },
    "tags": []
   },
   "outputs": [],
   "source": [
    "y_hat_classification = np.where(y_hat > 0.5, 1, 0)"
   ]
  },
  {
   "cell_type": "code",
   "execution_count": 54,
   "id": "d2a474aa",
   "metadata": {
    "execution": {
     "iopub.execute_input": "2024-02-24T22:57:14.971078Z",
     "iopub.status.busy": "2024-02-24T22:57:14.970351Z",
     "iopub.status.idle": "2024-02-24T22:57:14.978031Z",
     "shell.execute_reply": "2024-02-24T22:57:14.976437Z"
    },
    "papermill": {
     "duration": 0.076725,
     "end_time": "2024-02-24T22:57:14.980567",
     "exception": false,
     "start_time": "2024-02-24T22:57:14.903842",
     "status": "completed"
    },
    "tags": []
   },
   "outputs": [
    {
     "name": "stdout",
     "output_type": "stream",
     "text": [
      "(418, 1)\n",
      "(418, 13)\n"
     ]
    }
   ],
   "source": [
    "print(y_hat_classification.shape)\n",
    "print(test_data.shape)"
   ]
  },
  {
   "cell_type": "code",
   "execution_count": 55,
   "id": "2548eb46",
   "metadata": {
    "_cell_guid": "db9f8eb3-9bb4-4333-927c-726a3df5f011",
    "_uuid": "154cf977-1dad-4d2d-b7d6-caa350ee966c",
    "collapsed": false,
    "execution": {
     "iopub.execute_input": "2024-02-24T22:57:15.109154Z",
     "iopub.status.busy": "2024-02-24T22:57:15.108731Z",
     "iopub.status.idle": "2024-02-24T22:57:15.121358Z",
     "shell.execute_reply": "2024-02-24T22:57:15.119919Z"
    },
    "jupyter": {
     "outputs_hidden": false
    },
    "papermill": {
     "duration": 0.080295,
     "end_time": "2024-02-24T22:57:15.124071",
     "exception": false,
     "start_time": "2024-02-24T22:57:15.043776",
     "status": "completed"
    },
    "tags": []
   },
   "outputs": [
    {
     "name": "stdout",
     "output_type": "stream",
     "text": [
      "Your submission was successfully saved!\n"
     ]
    }
   ],
   "source": [
    "output = pd.DataFrame({'PassengerId': test_data.PassengerId, 'Survived': y_hat_classification.flatten()})\n",
    "output.to_csv('submission.csv', index=False)\n",
    "print(\"Your submission was successfully saved!\")"
   ]
  },
  {
   "cell_type": "code",
   "execution_count": null,
   "id": "3b3b6832",
   "metadata": {
    "papermill": {
     "duration": 0.064116,
     "end_time": "2024-02-24T22:57:15.249327",
     "exception": false,
     "start_time": "2024-02-24T22:57:15.185211",
     "status": "completed"
    },
    "tags": []
   },
   "outputs": [],
   "source": []
  }
 ],
 "metadata": {
  "kaggle": {
   "accelerator": "none",
   "dataSources": [
    {
     "databundleVersionId": 26502,
     "sourceId": 3136,
     "sourceType": "competition"
    }
   ],
   "dockerImageVersionId": 30646,
   "isGpuEnabled": false,
   "isInternetEnabled": false,
   "language": "python",
   "sourceType": "notebook"
  },
  "kernelspec": {
   "display_name": "Python 3",
   "language": "python",
   "name": "python3"
  },
  "language_info": {
   "codemirror_mode": {
    "name": "ipython",
    "version": 3
   },
   "file_extension": ".py",
   "mimetype": "text/x-python",
   "name": "python",
   "nbconvert_exporter": "python",
   "pygments_lexer": "ipython3",
   "version": "3.10.13"
  },
  "papermill": {
   "default_parameters": {},
   "duration": 453.527976,
   "end_time": "2024-02-24T22:57:18.621745",
   "environment_variables": {},
   "exception": null,
   "input_path": "__notebook__.ipynb",
   "output_path": "__notebook__.ipynb",
   "parameters": {},
   "start_time": "2024-02-24T22:49:45.093769",
   "version": "2.5.0"
  }
 },
 "nbformat": 4,
 "nbformat_minor": 5
}
