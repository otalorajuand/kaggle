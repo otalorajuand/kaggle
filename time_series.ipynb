{
 "cells": [
  {
   "cell_type": "code",
   "execution_count": 1,
   "id": "98ada0b5",
   "metadata": {
    "_cell_guid": "b1076dfc-b9ad-4769-8c92-a6c4dae69d19",
    "_uuid": "8f2839f25d086af736a60e9eeb907d3b93b6e0e5",
    "execution": {
     "iopub.execute_input": "2024-03-06T18:54:38.119112Z",
     "iopub.status.busy": "2024-03-06T18:54:38.118702Z",
     "iopub.status.idle": "2024-03-06T18:54:39.156388Z",
     "shell.execute_reply": "2024-03-06T18:54:39.155156Z"
    },
    "papermill": {
     "duration": 1.047312,
     "end_time": "2024-03-06T18:54:39.159747",
     "exception": false,
     "start_time": "2024-03-06T18:54:38.112435",
     "status": "completed"
    },
    "tags": []
   },
   "outputs": [
    {
     "name": "stdout",
     "output_type": "stream",
     "text": [
      "/kaggle/input/store-sales-time-series-forecasting/oil.csv\n",
      "/kaggle/input/store-sales-time-series-forecasting/sample_submission.csv\n",
      "/kaggle/input/store-sales-time-series-forecasting/holidays_events.csv\n",
      "/kaggle/input/store-sales-time-series-forecasting/stores.csv\n",
      "/kaggle/input/store-sales-time-series-forecasting/train.csv\n",
      "/kaggle/input/store-sales-time-series-forecasting/test.csv\n",
      "/kaggle/input/store-sales-time-series-forecasting/transactions.csv\n"
     ]
    }
   ],
   "source": [
    "# This Python 3 environment comes with many helpful analytics libraries installed\n",
    "# It is defined by the kaggle/python Docker image: https://github.com/kaggle/docker-python\n",
    "# For example, here's several helpful packages to load\n",
    "\n",
    "import numpy as np # linear algebra\n",
    "import pandas as pd # data processing, CSV file I/O (e.g. pd.read_csv)\n",
    "\n",
    "# Input data files are available in the read-only \"../input/\" directory\n",
    "# For example, running this (by clicking run or pressing Shift+Enter) will list all files under the input directory\n",
    "\n",
    "import os\n",
    "for dirname, _, filenames in os.walk('/kaggle/input'):\n",
    "    for filename in filenames:\n",
    "        print(os.path.join(dirname, filename))\n",
    "\n",
    "# You can write up to 20GB to the current directory (/kaggle/working/) that gets preserved as output when you create a version using \"Save & Run All\" \n",
    "# You can also write temporary files to /kaggle/temp/, but they won't be saved outside of the current session"
   ]
  },
  {
   "cell_type": "code",
   "execution_count": 2,
   "id": "0e9f10bd",
   "metadata": {
    "execution": {
     "iopub.execute_input": "2024-03-06T18:54:39.170360Z",
     "iopub.status.busy": "2024-03-06T18:54:39.169361Z",
     "iopub.status.idle": "2024-03-06T18:54:43.445119Z",
     "shell.execute_reply": "2024-03-06T18:54:43.443755Z"
    },
    "papermill": {
     "duration": 4.283821,
     "end_time": "2024-03-06T18:54:43.447966",
     "exception": false,
     "start_time": "2024-03-06T18:54:39.164145",
     "status": "completed"
    },
    "tags": []
   },
   "outputs": [],
   "source": [
    "oil_data = pd.read_csv('/kaggle/input/store-sales-time-series-forecasting/oil.csv')\n",
    "holiday_events = pd.read_csv('/kaggle/input/store-sales-time-series-forecasting/holidays_events.csv')\n",
    "stores = pd.read_csv('/kaggle/input/store-sales-time-series-forecasting/stores.csv')\n",
    "train_data = pd.read_csv('/kaggle/input/store-sales-time-series-forecasting/train.csv')\n",
    "test_data = pd.read_csv('/kaggle/input/store-sales-time-series-forecasting/test.csv')\n",
    "transactions_data = pd.read_csv('/kaggle/input/store-sales-time-series-forecasting/transactions.csv')"
   ]
  },
  {
   "cell_type": "code",
   "execution_count": 3,
   "id": "658252ed",
   "metadata": {
    "execution": {
     "iopub.execute_input": "2024-03-06T18:54:43.459322Z",
     "iopub.status.busy": "2024-03-06T18:54:43.458857Z",
     "iopub.status.idle": "2024-03-06T18:54:43.465321Z",
     "shell.execute_reply": "2024-03-06T18:54:43.463930Z"
    },
    "papermill": {
     "duration": 0.015069,
     "end_time": "2024-03-06T18:54:43.467988",
     "exception": false,
     "start_time": "2024-03-06T18:54:43.452919",
     "status": "completed"
    },
    "tags": []
   },
   "outputs": [
    {
     "name": "stdout",
     "output_type": "stream",
     "text": [
      "Train data dimensions: (3000888, 6)\n",
      "Test data dimensions: (28512, 5)\n"
     ]
    }
   ],
   "source": [
    "print(f'Train data dimensions: {train_data.shape}')\n",
    "print(f'Test data dimensions: {test_data.shape}')"
   ]
  },
  {
   "cell_type": "code",
   "execution_count": 4,
   "id": "21767c68",
   "metadata": {
    "execution": {
     "iopub.execute_input": "2024-03-06T18:54:43.478836Z",
     "iopub.status.busy": "2024-03-06T18:54:43.478417Z",
     "iopub.status.idle": "2024-03-06T18:54:43.487287Z",
     "shell.execute_reply": "2024-03-06T18:54:43.486066Z"
    },
    "papermill": {
     "duration": 0.017739,
     "end_time": "2024-03-06T18:54:43.490282",
     "exception": false,
     "start_time": "2024-03-06T18:54:43.472543",
     "status": "completed"
    },
    "tags": []
   },
   "outputs": [
    {
     "data": {
      "text/plain": [
       "Index(['id', 'date', 'store_nbr', 'family', 'sales', 'onpromotion'], dtype='object')"
      ]
     },
     "execution_count": 4,
     "metadata": {},
     "output_type": "execute_result"
    }
   ],
   "source": [
    "train_data.columns"
   ]
  },
  {
   "cell_type": "code",
   "execution_count": 5,
   "id": "449c7828",
   "metadata": {
    "execution": {
     "iopub.execute_input": "2024-03-06T18:54:43.501466Z",
     "iopub.status.busy": "2024-03-06T18:54:43.501019Z",
     "iopub.status.idle": "2024-03-06T18:54:44.119622Z",
     "shell.execute_reply": "2024-03-06T18:54:44.118098Z"
    },
    "papermill": {
     "duration": 0.627814,
     "end_time": "2024-03-06T18:54:44.122790",
     "exception": false,
     "start_time": "2024-03-06T18:54:43.494976",
     "status": "completed"
    },
    "tags": []
   },
   "outputs": [],
   "source": [
    "pivot_table = pd.pivot_table(train_data, values='sales', index='date', columns=['store_nbr'],aggfunc=\"sum\")"
   ]
  },
  {
   "cell_type": "code",
   "execution_count": null,
   "id": "12c2e876",
   "metadata": {
    "execution": {
     "iopub.execute_input": "2024-03-05T23:00:40.508871Z",
     "iopub.status.busy": "2024-03-05T23:00:40.508474Z",
     "iopub.status.idle": "2024-03-05T23:00:40.834460Z",
     "shell.execute_reply": "2024-03-05T23:00:40.833090Z",
     "shell.execute_reply.started": "2024-03-05T23:00:40.508840Z"
    },
    "papermill": {
     "duration": 0.00429,
     "end_time": "2024-03-06T18:54:44.131942",
     "exception": false,
     "start_time": "2024-03-06T18:54:44.127652",
     "status": "completed"
    },
    "tags": []
   },
   "outputs": [],
   "source": []
  },
  {
   "cell_type": "code",
   "execution_count": 6,
   "id": "f7e5bc77",
   "metadata": {
    "execution": {
     "iopub.execute_input": "2024-03-06T18:54:44.143747Z",
     "iopub.status.busy": "2024-03-06T18:54:44.143201Z",
     "iopub.status.idle": "2024-03-06T18:54:44.169356Z",
     "shell.execute_reply": "2024-03-06T18:54:44.168063Z"
    },
    "papermill": {
     "duration": 0.035943,
     "end_time": "2024-03-06T18:54:44.172612",
     "exception": false,
     "start_time": "2024-03-06T18:54:44.136669",
     "status": "completed"
    },
    "tags": []
   },
   "outputs": [],
   "source": [
    "test_data = pd.read_csv('/kaggle/input/store-sales-time-series-forecasting/sample_submission.csv')"
   ]
  },
  {
   "cell_type": "code",
   "execution_count": null,
   "id": "2a31d89b",
   "metadata": {
    "execution": {
     "iopub.execute_input": "2024-03-05T22:55:09.694605Z",
     "iopub.status.busy": "2024-03-05T22:55:09.694206Z",
     "iopub.status.idle": "2024-03-05T22:55:09.719826Z",
     "shell.execute_reply": "2024-03-05T22:55:09.718459Z",
     "shell.execute_reply.started": "2024-03-05T22:55:09.694574Z"
    },
    "papermill": {
     "duration": 0.004253,
     "end_time": "2024-03-06T18:54:44.181937",
     "exception": false,
     "start_time": "2024-03-06T18:54:44.177684",
     "status": "completed"
    },
    "tags": []
   },
   "outputs": [],
   "source": []
  },
  {
   "cell_type": "code",
   "execution_count": null,
   "id": "fd988adb",
   "metadata": {
    "papermill": {
     "duration": 0.005532,
     "end_time": "2024-03-06T18:54:44.192019",
     "exception": false,
     "start_time": "2024-03-06T18:54:44.186487",
     "status": "completed"
    },
    "tags": []
   },
   "outputs": [],
   "source": []
  }
 ],
 "metadata": {
  "kaggle": {
   "accelerator": "none",
   "dataSources": [
    {
     "databundleVersionId": 2887556,
     "sourceId": 29781,
     "sourceType": "competition"
    }
   ],
   "dockerImageVersionId": 30664,
   "isGpuEnabled": false,
   "isInternetEnabled": false,
   "language": "python",
   "sourceType": "notebook"
  },
  "kernelspec": {
   "display_name": "Python 3",
   "language": "python",
   "name": "python3"
  },
  "language_info": {
   "codemirror_mode": {
    "name": "ipython",
    "version": 3
   },
   "file_extension": ".py",
   "mimetype": "text/x-python",
   "name": "python",
   "nbconvert_exporter": "python",
   "pygments_lexer": "ipython3",
   "version": "3.10.13"
  },
  "papermill": {
   "default_parameters": {},
   "duration": 9.829863,
   "end_time": "2024-03-06T18:54:44.718900",
   "environment_variables": {},
   "exception": null,
   "input_path": "__notebook__.ipynb",
   "output_path": "__notebook__.ipynb",
   "parameters": {},
   "start_time": "2024-03-06T18:54:34.889037",
   "version": "2.5.0"
  }
 },
 "nbformat": 4,
 "nbformat_minor": 5
}
